{
 "cells": [
  {
   "cell_type": "markdown",
   "metadata": {},
   "source": [
    "## IDENTIFICATION OF NOVEL CLASSES OF NEOANTIGENS IN CANCER | Data preprocessing"
   ]
  },
  {
   "cell_type": "code",
   "execution_count": 1,
   "metadata": {},
   "outputs": [],
   "source": [
    "%load_ext rpy2.ipython"
   ]
  },
  {
   "cell_type": "markdown",
   "metadata": {},
   "source": [
    "## 0. Data preparation\n",
    "\n",
    "This first cell should be modified according to the data that is going to be used. It is only available for datasets with paired samples per patient: normal and tumor. \n",
    "\n",
    "The **PROJECT** variable should be changed according to the GEO identifier.\n",
    "\n",
    "From the GEO website, the *SRR_Acc_List.txt* and *SraRunTable.txt* files should be manually downloaded and save in a directory. This directory should be specified in **SRR** variable.\n",
    "\n",
    "The pipeline is developed with the intention of running the most computationally expensive programs in a cluster. \n",
    "In this case, a Gluster File System has been used. The code to run on a cluster may need to be adapted."
   ]
  },
  {
   "cell_type": "code",
   "execution_count": null,
   "metadata": {
    "scrolled": true
   },
   "outputs": [],
   "source": [
    "import os,re,shutil,glob,openpyxl\n",
    "import pandas as pd\n",
    "from Bio import SeqIO\n",
    "from gtfparse import read_gtf\n",
    "from matplotlib_venn import venn2, venn2_circles, venn2_unweighted\n",
    "from matplotlib import pyplot as plt\n",
    "from IPython.display import Image\n",
    "\n",
    "PROJECT=\"GSE193567\"\n",
    "\n",
    "DIR=os.path.join(\"data\",PROJECT)\n",
    "\n",
    "try:\n",
    "    os.makedirs(DIR) #path where to store all the itermediate steps and outputs of the pipeline\n",
    "except:\n",
    "    print(\"Directory for %s already exists\" %PROJECT)\n",
    "    \n",
    "CLUSTERDIR=\"/users/genomics/marta\" #path where to run and store things that run in a cluster\n",
    "SRR=\"/projects_eg/datasets/\"+PROJECT # path where SRR_Acc_List.txt and SraRunTable.txt are stored. It should be inside a folder named with GEO accession\n",
    "SRR_ACC=os.path.join(SRR,\"SRR_Acc_List.txt\") \n",
    "SRA=os.path.join(SRR,\"SraRunTable.txt\")\n",
    "\n",
    "FASTQDIR=os.path.join(DIR,\"fastq_files\") #path where to store fastq files\n",
    "try:\n",
    "    os.mkdir(FASTQDIR)\n",
    "except:\n",
    "    print(\"Fastq_files directory exists\")\n",
    "    \n",
    "shutil.copy(SRR_ACC, os.path.join(FASTQDIR,\"SRR_Acc_List.txt\"))\n",
    "shutil.copy(SRA, os.path.join(FASTQDIR,\"SraRunTable.txt\"))\n",
    "\n",
    "GENOMEDIR=\"genomes\"\n",
    "\n",
    "try:\n",
    "    os.makedirs(os.path.join(DIR,\"analysis\"))\n",
    "    os.makedirs(os.path.join(DIR,\"results\"))\n",
    "    #os.makedirs(os.path.join(DIR,\"scripts\"))\n",
    "except:\n",
    "    print(\"Directory exists\")\n",
    "\n"
   ]
  },
  {
   "cell_type": "code",
   "execution_count": null,
   "metadata": {
    "scrolled": true
   },
   "outputs": [],
   "source": [
    "%%R\n",
    "\n",
    "require(tidyr)\n",
    "require(dplyr)\n",
    "require(rtracklayer)\n",
    "#library(purrr)\n",
    "require(ggplot2)\n",
    "require(RColorBrewer)\n",
    "require(devtools)\n",
    "require(stringr)\n",
    "require(edgeR)"
   ]
  },
  {
   "cell_type": "markdown",
   "metadata": {},
   "source": [
    "Get a three column file with patient_id normal_id tumor_id for latter usage "
   ]
  },
  {
   "cell_type": "code",
   "execution_count": 4,
   "metadata": {},
   "outputs": [
    {
     "data": {
      "text/html": [
       "<div>\n",
       "<style scoped>\n",
       "    .dataframe tbody tr th:only-of-type {\n",
       "        vertical-align: middle;\n",
       "    }\n",
       "\n",
       "    .dataframe tbody tr th {\n",
       "        vertical-align: top;\n",
       "    }\n",
       "\n",
       "    .dataframe thead th {\n",
       "        text-align: right;\n",
       "    }\n",
       "</style>\n",
       "<table border=\"1\" class=\"dataframe\">\n",
       "  <thead>\n",
       "    <tr style=\"text-align: right;\">\n",
       "      <th></th>\n",
       "      <th>Individual</th>\n",
       "      <th>Run</th>\n",
       "      <th>Run_t</th>\n",
       "    </tr>\n",
       "  </thead>\n",
       "  <tbody>\n",
       "    <tr>\n",
       "      <th>0</th>\n",
       "      <td>10615</td>\n",
       "      <td>SRR17593537</td>\n",
       "      <td>SRR17593538</td>\n",
       "    </tr>\n",
       "    <tr>\n",
       "      <th>1</th>\n",
       "      <td>10594</td>\n",
       "      <td>SRR17593539</td>\n",
       "      <td>SRR17593540</td>\n",
       "    </tr>\n",
       "    <tr>\n",
       "      <th>2</th>\n",
       "      <td>10584</td>\n",
       "      <td>SRR17593542</td>\n",
       "      <td>SRR17593541</td>\n",
       "    </tr>\n",
       "    <tr>\n",
       "      <th>3</th>\n",
       "      <td>10635</td>\n",
       "      <td>SRR17593543</td>\n",
       "      <td>SRR17593544</td>\n",
       "    </tr>\n",
       "    <tr>\n",
       "      <th>4</th>\n",
       "      <td>10632</td>\n",
       "      <td>SRR17593546</td>\n",
       "      <td>SRR17593545</td>\n",
       "    </tr>\n",
       "    <tr>\n",
       "      <th>5</th>\n",
       "      <td>10628</td>\n",
       "      <td>SRR17593548</td>\n",
       "      <td>SRR17593547</td>\n",
       "    </tr>\n",
       "    <tr>\n",
       "      <th>6</th>\n",
       "      <td>10627</td>\n",
       "      <td>SRR17593550</td>\n",
       "      <td>SRR17593549</td>\n",
       "    </tr>\n",
       "    <tr>\n",
       "      <th>7</th>\n",
       "      <td>10622</td>\n",
       "      <td>SRR17593551</td>\n",
       "      <td>SRR17593552</td>\n",
       "    </tr>\n",
       "    <tr>\n",
       "      <th>8</th>\n",
       "      <td>10619</td>\n",
       "      <td>SRR17593554</td>\n",
       "      <td>SRR17593553</td>\n",
       "    </tr>\n",
       "  </tbody>\n",
       "</table>\n",
       "</div>"
      ],
      "text/plain": [
       "  Individual          Run        Run_t\n",
       "0      10615  SRR17593537  SRR17593538\n",
       "1      10594  SRR17593539  SRR17593540\n",
       "2      10584  SRR17593542  SRR17593541\n",
       "3      10635  SRR17593543  SRR17593544\n",
       "4      10632  SRR17593546  SRR17593545\n",
       "5      10628  SRR17593548  SRR17593547\n",
       "6      10627  SRR17593550  SRR17593549\n",
       "7      10622  SRR17593551  SRR17593552\n",
       "8      10619  SRR17593554  SRR17593553"
      ]
     },
     "execution_count": 4,
     "metadata": {},
     "output_type": "execute_result"
    }
   ],
   "source": [
    "metadata = pd.read_csv(os.path.join(FASTQDIR.split(\"/fastq_files\")[0],\"SraRunTable.txt\"))\n",
    "metadata = metadata[['Run','Individual','tissue']]\n",
    "\n",
    "normal = metadata[metadata['tissue'] == \"non-tumor\"]\n",
    "normal = normal[['Individual','Run']]\n",
    "\n",
    "tumor = metadata[metadata['tissue'] == \"tumor\"]\n",
    "tumor = tumor[['Individual','Run']].rename(columns ={'Run' : 'Run_t'})\n",
    "\n",
    "patients = pd.merge(normal, tumor, on=['Individual'])\n",
    "patients['Individual'] = patients['Individual'].str.split(' ').str[1]\n",
    "patients.to_csv(os.path.join(DIR,\"results/patients.csv\"),index=False, header=False)\n",
    "patients_summary = os.path.join(DIR,\"results/patients.csv\")\n",
    "\n",
    "patients_id=list(patients.iloc[:,0])\n",
    "normal_id=list(patients.iloc[:,1])\n",
    "tumor_id=list(patients.iloc[:,2])\n",
    "\n",
    "patients"
   ]
  },
  {
   "cell_type": "markdown",
   "metadata": {},
   "source": [
    "## 10.HLAtyping\n",
    "\n",
    "The programm needs a fasta file and if it is rna or dna and then it first only takes the parts of chromosome 6 that encode the HLA-I and gives you predictions. I ran it with --enumerations 3, so it gives the three most likely predictions. But in the end I only used the best prediction. And I have several samples per patient. So what I did is run it for all (tumour DNA, blood DNA, tumour RNA, post-treatment samples etc), took only the best predcition and checked if it is the same HLA Allele Typing in all samples (whcih it should be). And when it was different between samples of the same patient, I looked at the quality (coverage plots provided by the program) and then it was ususally quite clear that for samples where the prediction differed the coverage was low...\n",
    "\n",
    "https://github.com/nf-core/hlatyping"
   ]
  },
  {
   "cell_type": "code",
   "execution_count": null,
   "metadata": {},
   "outputs": [],
   "source": [
    "%%bash -s \"$DIR\"\n",
    "\n",
    "mkdir $1/analysis/10_HLAtyping"
   ]
  },
  {
   "cell_type": "code",
   "execution_count": null,
   "metadata": {},
   "outputs": [],
   "source": [
    "%%bash -s \"$PROJECT\" \"$FASTQDIR\" \"$CLUSTERDIR\" \"$DIR\" \"$patients_summary\"\n",
    "\n",
    "######################################DONE IN CLUSTER###############################################\n",
    "\n",
    "sbatch $3/scripts/4_neoantigens_prediction/loop_hla.sh $1 $2 $3 $4 $5"
   ]
  },
  {
   "cell_type": "markdown",
   "metadata": {},
   "source": [
    "To generate HLA alleles file from the specific dataset and for its latter usage in netMHCpan"
   ]
  },
  {
   "cell_type": "code",
   "execution_count": 20,
   "metadata": {},
   "outputs": [],
   "source": [
    "out_df = pd.DataFrame()\n",
    "counter=0\n",
    "OUT=DIR+\"/analysis/10_HLAtyping/hla_alleles_patients.csv\"\n",
    "with open(OUT, 'w') as out:\n",
    "    for p in patients_id:\n",
    "        out_df = pd.DataFrame()\n",
    "        with open (DIR+\"/analysis/10_HLAtyping/\"+p+\"/optitype/\"+normal_id[counter]+\"/\"+normal_id[counter]+\"_result.tsv\") as hlatyping:\n",
    "            lines = hlatyping.readlines()\n",
    "            del lines[0]\n",
    "            line = lines[1].strip()\n",
    "            splitted_line = line.split(\"\\t\")\n",
    "            del splitted_line[0]\n",
    "            del splitted_line[6]\n",
    "            del splitted_line[6]\n",
    "            listToStr = '\\t'.join(map(str, splitted_line))\n",
    "            listToStr = listToStr.strip()\n",
    "            out.write(\"%s\\t%s\\n\" %(p, listToStr))\n",
    "        \n",
    "        counter = counter + 1\n",
    "    \n"
   ]
  },
  {
   "cell_type": "code",
   "execution_count": 21,
   "metadata": {},
   "outputs": [],
   "source": [
    "%%bash -s \"$DIR\"\n",
    "\n",
    "hlatyping=$1/analysis/10_HLAtyping/hla_alleles_patients.csv\n",
    "\n",
    "cut -d, -f2- $hlatyping > ${hlatyping%%_patients*}.csv\n",
    "< ${hlatyping%%_patients*}.csv tr -s '\\t' '\\n' | sort | uniq > ${hlatyping%%_patients*}_uniq.csv\n",
    "\n",
    "sed -i -e 's/^/HLA-/' ${hlatyping%%_patients*}_uniq.csv \n",
    "\n",
    "< ${hlatyping%%_patients*}_uniq.csv tr -s '\\n' ',' > $1/analysis/10_HLAtyping/alleles.txt\n",
    "sed -i 's/\\*//g' $1/analysis/10_HLAtyping/alleles.txt"
   ]
  },
  {
   "cell_type": "code",
   "execution_count": 22,
   "metadata": {},
   "outputs": [
    {
     "name": "stdout",
     "output_type": "stream",
     "text": [
      "A*02:01,HLA-A*29:10,HLA-B*44:03,HLA-B*44:03,HLA-C*16:01,HLA-C*16:01\n",
      "A02:01,HLA-A29:10,HLA-B44:03,HLA-B44:03,HLA-C16:01,HLA-C16:01\n",
      "A*02:01,HLA-A*30:02,HLA-B*44:03,HLA-B*44:22,HLA-C*05:01,HLA-C*16:01\n",
      "A02:01,HLA-A30:02,HLA-B44:03,HLA-B44:22,HLA-C05:01,HLA-C16:01\n",
      "A*02:01,HLA-A*02:29,HLA-B*35:01,HLA-B*49:01,HLA-C*04:01,HLA-C*07:01\n",
      "A02:01,HLA-A02:29,HLA-B35:01,HLA-B49:01,HLA-C04:01,HLA-C07:01\n",
      "A*11:01,HLA-A*32:01,HLA-B*35:08,HLA-B*49:01,HLA-C*04:01,HLA-C*07:01\n",
      "A11:01,HLA-A32:01,HLA-B35:08,HLA-B49:01,HLA-C04:01,HLA-C07:01\n",
      "A*32:01,HLA-A*32:01,HLA-B*35:03,HLA-B*44:03,HLA-C*04:01,HLA-C*16:01\n",
      "A32:01,HLA-A32:01,HLA-B35:03,HLA-B44:03,HLA-C04:01,HLA-C16:01\n",
      "A*11:01,HLA-A*24:10,HLA-B*08:01,HLA-B*38:01,HLA-C*07:01,HLA-C*12:03\n",
      "A11:01,HLA-A24:10,HLA-B08:01,HLA-B38:01,HLA-C07:01,HLA-C12:03\n",
      "A*01:01,HLA-A*30:01,HLA-B*08:01,HLA-B*49:01,HLA-C*07:01,HLA-C*12:03\n",
      "A01:01,HLA-A30:01,HLA-B08:01,HLA-B49:01,HLA-C07:01,HLA-C12:03\n",
      "A*01:01,HLA-A*30:02,HLA-B*08:01,HLA-B*18:01,HLA-C*07:01,HLA-C*05:09\n",
      "A01:01,HLA-A30:02,HLA-B08:01,HLA-B18:01,HLA-C07:01,HLA-C05:09\n",
      "A*02:01,HLA-A*24:10,HLA-B*39:06,HLA-B*50:01,HLA-C*06:02,HLA-C*07:02\n",
      "A02:01,HLA-A24:10,HLA-B39:06,HLA-B50:01,HLA-C06:02,HLA-C07:02\n"
     ]
    }
   ],
   "source": [
    "#HLA alleles separated by , to pass to netMHCpan directly\n",
    "alleles=DIR+\"/analysis/10_HLAtyping/hla_alleles_patients.csv\"\n",
    "#the file will contain all the HLA I alleles per patient written in such a way that no further cleaning is need for netMHCpan to use them\n",
    "for p in patients_id:\n",
    "    OUT=DIR+\"/analysis/10_HLAtyping/\"+p+\"_alleles_to_netMHCpan.csv\"\n",
    "    with open(OUT, 'w') as out:\n",
    "        with open(alleles) as inp:\n",
    "            lines=inp.readlines()\n",
    "            for line in lines:\n",
    "                line = line.strip()\n",
    "                splitted_line=line.split(\"\\t\")\n",
    "                patient=splitted_line.pop(0)\n",
    "                if patient == p:\n",
    "                    listToStr = ',HLA-'.join(map(str, splitted_line))\n",
    "                    listToStr = listToStr.replace(\"*\",\"\")\n",
    "                    out.write(\"HLA-\"+listToStr+\"\\n\")\n"
   ]
  },
  {
   "cell_type": "markdown",
   "metadata": {},
   "source": [
    "## 11.PeptideBindingMHC\n",
    "\n"
   ]
  },
  {
   "cell_type": "markdown",
   "metadata": {},
   "source": [
    "To choose the length of the peptides, we analyzed the Supplementary Table S3 of \n",
    "\n",
    "Chong, C., Müller, M., Pak, H. et al. Integrated proteogenomic deep sequencing and analytics accurately identify non-canonical peptides in tumor immunopeptidomes. Nat Commun 11, 1293 (2020). https://doi.org/10.1038/s41467-020-14968-9\n",
    "\n",
    "We used it as a kind of database to support our findings."
   ]
  },
  {
   "cell_type": "code",
   "execution_count": null,
   "metadata": {},
   "outputs": [],
   "source": [
    "%%bash -s \"$GENOMEDIR\"\n",
    "mkdir $1/chongetal\n",
    "cd $1/chongetal\n",
    "\n",
    "wget https://static-content.springer.com/esm/art%3A10.1038%2Fs41467-020-14968-9/MediaObjects/41467_2020_14968_MOESM5_ESM.xlsx"
   ]
  },
  {
   "cell_type": "code",
   "execution_count": null,
   "metadata": {},
   "outputs": [],
   "source": [
    "#abundance 8/9/10/11 aa peptides\n",
    "chong = pd.read_excel(os.path.join(GENOMEDIR,\"/chonetal/Chong_etal_2020_SupData3_41467_2020_14968_MOESM5_ESM.xlsx\", skiprows=1)\n",
    "chong['Transcript_ID'] = chong['Transcript_ID'].str[:-2]\n",
    "list_seqs = chong.Sequence.values.tolist()\n",
    "total_num_peptides=len(list_seqs)\n",
    "counter8 = 0\n",
    "counter9 = 0\n",
    "counter10 = 0\n",
    "counter11 = 0\n",
    "\n",
    "for peptide in list_seqs:\n",
    "    if len(peptide) == 8:\n",
    "        counter8 = counter8 + 1\n",
    "    if len(peptide) == 9:\n",
    "        counter9 = counter9 + 1\n",
    "    if len(peptide) == 10:\n",
    "        counter10 = counter10 + 1\n",
    "    if len(peptide) == 11:\n",
    "        counter11 = counter11 + 1\n",
    "\n",
    "print(\"There are:\\n%i 8aa peptides\\n%i 9aa peptides\\n%i 10aa peptides\\n%i 11aapeptides\" %(counter8,counter9,counter10,counter11))"
   ]
  },
  {
   "cell_type": "markdown",
   "metadata": {},
   "source": [
    "9aa peptides are the ones with more binding affinity, according to Chong et al. Supplementary Table S3. So we are going to use 9aa peptides.\n",
    "\n",
    "To be able to jump to conclusions and compare results, we will predict the binding affinity of peptides derived from several strategies:\n",
    "\n",
    "**A** | due to expression of tumor-specific putative noncanonical ORFS (CIPHER)\n"
   ]
  },
  {
   "cell_type": "code",
   "execution_count": 50,
   "metadata": {},
   "outputs": [
    {
     "name": "stdout",
     "output_type": "stream",
     "text": [
      "Directory already exists\n",
      "Directory already exists, data could be overwritten.\n",
      "Directory already exists, data could be overwritten.\n",
      "Directory already exists, data could be overwritten.\n",
      "Directory already exists, data could be overwritten.\n",
      "Directory already exists, data could be overwritten.\n",
      "Directory already exists, data could be overwritten.\n",
      "Directory already exists, data could be overwritten.\n",
      "Directory already exists, data could be overwritten.\n",
      "Directory already exists, data could be overwritten.\n"
     ]
    }
   ],
   "source": [
    "try:\n",
    "    os.makedirs(DIR+\"/analysis/11_PeptideBindingMHC/noncanonical_CIPHER\")\n",
    "except:\n",
    "    print(\"Directory already exists\")\n",
    "    \n",
    "for p in patients_id:\n",
    "    INDIR=DIR+\"/analysis/09_CIPHER/\"+p\n",
    "    OUTDIR=DIR+\"/analysis/11_PeptideBindingMHC/noncanonical_CIPHER/\"+p\n",
    "    try:\n",
    "        os.mkdir(OUTDIR)\n",
    "    except:\n",
    "        print(\"Directory already exists, data could be overwritten.\")\n",
    "    file= p + \"_noncanonical_all_orfs_FPKM1_notduplis_PROTEIN.fa\" \n",
    "    outfile = file[:-3] + \"_9aa.fa\"\n",
    "    with open (os.path.join(OUTDIR,outfile), 'w') as out:\n",
    "        for seq_record in SeqIO.parse(os.path.join(INDIR,file), \"fasta\"):\n",
    "            if len(seq_record.seq) >= 9: # we keep only sequences with > 9 aminoacids so they can be cut into little peptides. Really small sequences with less than 9 aa would not bind to the MHC.\n",
    "                out.write(\">\" + seq_record.id + \"\\n\" + str(seq_record.seq) + \"\\n\")\n",
    "            else:\n",
    "                next\n"
   ]
  },
  {
   "cell_type": "markdown",
   "metadata": {},
   "source": [
    "Summary file with the amount of sequences with more than 9aa with respect to the total"
   ]
  },
  {
   "cell_type": "code",
   "execution_count": 5,
   "metadata": {},
   "outputs": [],
   "source": [
    "%%bash -s \"$DIR\" \"$patients_summary\"\n",
    "\n",
    "OUT=$1/results/sequences_9aa.txt\n",
    "if [ -f \"$OUT\" ] ; then\n",
    "    rm \"$OUT\"\n",
    "fi\n",
    "cat $2 | while IFS=, read p normal tumor; do\n",
    "INDIR=$1/analysis/09_CIPHER/${p}\n",
    "LONG_DIR=$1/analysis/11_PeptideBindingMHC/noncanonical_CIPHER/${p}\n",
    "echo -e ${p}\" full_length: \"$(grep '>' ${INDIR}/${p}_noncanonical_all_orfs_FPKM1_notduplis_PROTEIN.fa | wc -l) >> $OUT\n",
    "echo -e ${p}\" more than 9 aa: \"$(grep '>' ${LONG_DIR}/${p}_noncanonical_all_orfs_FPKM1_notduplis_PROTEIN_9aa.fa | wc -l) >> $OUT\n",
    "done"
   ]
  },
  {
   "cell_type": "code",
   "execution_count": 6,
   "metadata": {},
   "outputs": [],
   "source": [
    "#clean header\n",
    "for p in patients_id:\n",
    "    INDIR=DIR+\"/analysis/11_PeptideBindingMHC/noncanonical_CIPHER/\"+p\n",
    "    for file in os.listdir(INDIR):\n",
    "        if file.endswith(\"9aa.fa\"):\n",
    "            outfile = file[:-3] + \"_cleanheader.fa\"\n",
    "\n",
    "            with open (os.path.join(INDIR,outfile), 'w') as out:\n",
    "                for seq_record in SeqIO.parse(os.path.join(INDIR,file), \"fasta\"):\n",
    "                    if \"ENST\" in seq_record.id:\n",
    "                        identifier = seq_record.id.split(\".\")[0]\n",
    "                        identifier = identifier + \";\" + seq_record.id[-1]\n",
    "                    else:\n",
    "                        identifier = seq_record.id.split(\",\")[0]\n",
    "                        identifier = identifier[:-2] + \";\" + seq_record.id[-1]\n",
    "\n",
    "                    out.write(\">%s\\n%s\\n\" %(str(identifier),str(seq_record.seq)))\n"
   ]
  },
  {
   "cell_type": "markdown",
   "metadata": {},
   "source": [
    "**NetMHCpan**"
   ]
  },
  {
   "cell_type": "code",
   "execution_count": null,
   "metadata": {},
   "outputs": [],
   "source": [
    "%%bash -s \"$PROJECT\" \"$DIR\" \"$CLUSTERDIR\" \n",
    "\n",
    "######################################DONE IN CLUSTER###############################################\n",
    "\n",
    "sbatch --array=1-9 $2/scripts/4_neoantigen_prediction/netmhcpan_noncanonical.sh $1 $2 $3 #--array=1-n where n is the number of files to process"
   ]
  },
  {
   "cell_type": "markdown",
   "metadata": {},
   "source": [
    "**B** | Due to expression of tumor-specific canonical CDS"
   ]
  },
  {
   "cell_type": "code",
   "execution_count": 5,
   "metadata": {},
   "outputs": [
    {
     "name": "stderr",
     "output_type": "stream",
     "text": [
      "/home/marta/.local/lib/python3.9/site-packages/Bio/Seq.py:2979: BiopythonWarning: Partial codon, len(sequence) not a multiple of three. Explicitly trim the sequence or add trailing N before translation. This may become an error in future.\n",
      "  warnings.warn(\n"
     ]
    }
   ],
   "source": [
    "for p in patients_id:\n",
    "    INDIR=DIR+\"/analysis/08_tumor_specific/\"+p\n",
    "    file=p + \"_known_tumor_specific_genes_1FPKM_300kb_CDS_gene.fa\"\n",
    "    outfile = file[:-3] + \"_PROTEIN.fa\"\n",
    "    with open (os.path.join(INDIR,outfile), 'w') as out:\n",
    "        for seq_record in SeqIO.parse(os.path.join(INDIR,file), \"fasta\"):\n",
    "            identif=str(seq_record.id)\n",
    "            sequence=str(seq_record.seq.translate())\n",
    "            out.write(\">\" + identif + \"\\n\" + sequence[:-1] + \"\\n\")\n"
   ]
  },
  {
   "cell_type": "markdown",
   "metadata": {},
   "source": [
    "**NetMHCpan**"
   ]
  },
  {
   "cell_type": "code",
   "execution_count": null,
   "metadata": {},
   "outputs": [],
   "source": [
    "%%bash -s \"$PROJECT\" \"$DIR\" \"$CLUSTERDIR\" \n",
    "\n",
    "######################################DONE IN CLUSTER###############################################\n",
    "\n",
    "sbatch --array=1-9 $2/scripts/4_neoantigen_prediction/netmhcpan_canonical.sh $1 $2 $3 #--array=1-n where n is the number of files to process"
   ]
  },
  {
   "cell_type": "markdown",
   "metadata": {},
   "source": [
    "**C** | NOCDS with translation evidence\n",
    "\n",
    "We have two sets of ribo-seq data to compare our finding with translation evidence. To do so, we compare at indetifier level, if what we considered as non-canonical with coding potential is supported by ribo seq data\n",
    "\n",
    "*Ouspenskaia*"
   ]
  },
  {
   "cell_type": "code",
   "execution_count": 6,
   "metadata": {},
   "outputs": [
    {
     "name": "stdout",
     "output_type": "stream",
     "text": [
      "Directory already exists, data may be overwritten\n",
      "Directory already exists, data may be overwritten\n",
      "Directory already exists, data may be overwritten\n",
      "Directory already exists, data may be overwritten\n",
      "Directory already exists, data may be overwritten\n",
      "Directory already exists, data may be overwritten\n",
      "Directory already exists, data may be overwritten\n",
      "Directory already exists, data may be overwritten\n",
      "Directory already exists, data may be overwritten\n"
     ]
    }
   ],
   "source": [
    "ouspenskaia=pd.read_csv(os.path.join(cwd,\"riboseq_evidences/ouspenskaia.lncRNA.20220222.csv\"))\n",
    "\n",
    "for p in patients_id:\n",
    "    try:\n",
    "        os.makedirs(DIR+\"/analysis/11_PeptideBindingMHC/translation_evidence_NOCDS/\"+p)\n",
    "    except:\n",
    "        print(\"Directory already exists, data may be overwritten\")\n",
    "        \n",
    "    NOCDS=DIR+\"/analysis/08_tumor_specific/\"+p+\"/\"+p+\"_known_tumor_specific_genes_1FPKM_300kb_NOCDS_selected.csv\" # from all nocds tumor specific transcripts,\n",
    "    OUTNOCDS=DIR+\"/analysis/11_PeptideBindingMHC/translation_evidence_NOCDS/\"+ p + \"/\" + p +\"_translation_evidence_ouspenskaia.txt\" #how many of them are present in ribo-seq set of data from Ouspenskaia\n",
    "    OUTNOCDS_list=DIR+\"/analysis/11_PeptideBindingMHC/translation_evidence_NOCDS/\"+ p + \"/\" + p +\"_translation_evidence_ouspenskaia_ids.txt\" #and generate also a list\n",
    "\n",
    "    df = pd.read_csv(NOCDS)\n",
    "    list_df = df.gene_id.values.tolist()\n",
    "    list_df_clean = [x.split(\".\")[0] for x in list_df]\n",
    "    shared = ouspenskaia[ouspenskaia['gene'].isin(list_df_clean)]\n",
    "    shared.to_csv(OUTNOCDS, index=False, header=True)\n",
    "    shared.iloc[:,2].to_csv(OUTNOCDS_list, index=False, header=False)"
   ]
  },
  {
   "cell_type": "markdown",
   "metadata": {},
   "source": [
    "Generate a summary file with the number of non-protein coding genes present in ouspenskaia database"
   ]
  },
  {
   "cell_type": "code",
   "execution_count": 7,
   "metadata": {},
   "outputs": [],
   "source": [
    "%%bash -s \"$DIR\" \"$patients_summary\"\n",
    "\n",
    "OUT=$1/results/overlap_w_ouspenskaia.txt\n",
    "if [ -f \"$OUT\" ] ; then\n",
    "    rm \"$OUT\"\n",
    "fi\n",
    "cat $2 | while IFS=, read p normal tumor; do\n",
    "    file=$1/analysis/11_PeptideBindingMHC/translation_evidence_NOCDS/${p}/${p}_translation_evidence_ouspenskaia_ids.txt\n",
    "    echo -e $p\"\\t\"$(wc -l < $file) >> $OUT \n",
    "done"
   ]
  },
  {
   "cell_type": "markdown",
   "metadata": {},
   "source": [
    "*HCC*"
   ]
  },
  {
   "cell_type": "code",
   "execution_count": 9,
   "metadata": {},
   "outputs": [],
   "source": [
    "hcc=pd.read_csv(os.path.join(cwd,\"riboseq_evidences/HCC_tumor.lncRNA.20220222.csv\"))\n",
    "\n",
    "for p in patients_id:     \n",
    "    NOCDS=DIR+\"/analysis/08_tumor_specific/\"+p+\"/\"+p+\"_known_tumor_specific_genes_1FPKM_300kb_NOCDS_selected.csv\"\n",
    "    OUTNOCDS=DIR+\"/analysis/11_PeptideBindingMHC/translation_evidence_NOCDS/\"+ p + \"/\" + p +\"_translation_evidence_hcc.txt\"\n",
    "    OUTNOCDS_list=DIR+\"/analysis/11_PeptideBindingMHC/translation_evidence_NOCDS/\"+ p + \"/\" + p +\"_translation_evidence_hcc_ids.txt\"\n",
    "\n",
    "    df = pd.read_csv(NOCDS)\n",
    "    list_df = df.gene_id.values.tolist()\n",
    "    list_df_clean = [x.split(\".\")[0] for x in list_df]\n",
    "    shared = hcc[hcc['gene'].isin(list_df_clean)]\n",
    "    shared.to_csv(OUTNOCDS, index=False, header=True)\n",
    "    shared.iloc[:,2].to_csv(OUTNOCDS_list, index=False, header=False)"
   ]
  },
  {
   "cell_type": "markdown",
   "metadata": {},
   "source": [
    "Generate a summary file with the number of non-protein coding genes present in hcc "
   ]
  },
  {
   "cell_type": "code",
   "execution_count": 10,
   "metadata": {},
   "outputs": [],
   "source": [
    "%%bash -s \"$DIR\" \"$patients_summary\"\n",
    "\n",
    "OUT=$1/results/overlap_w_hcc.txt\n",
    "if [ -f \"$OUT\" ] ; then\n",
    "    rm \"$OUT\"\n",
    "fi\n",
    "cat $2 | while IFS=, read p normal tumor; do\n",
    "    file=$1/analysis/11_PeptideBindingMHC/translation_evidence_NOCDS/${p}/${p}_translation_evidence_hcc_ids.txt\n",
    "    echo -e $p\"\\t\"$(wc -l < $file) >> $OUT \n",
    "done"
   ]
  },
  {
   "cell_type": "markdown",
   "metadata": {},
   "source": [
    "Concatenate both overlapping genes with the translation evidence datasets avoiding redundancies in such a way that we will be generating a file with those nonprotein coding genes we detected and with translation evidence."
   ]
  },
  {
   "cell_type": "code",
   "execution_count": 11,
   "metadata": {},
   "outputs": [
    {
     "name": "stdout",
     "output_type": "stream",
     "text": [
      "10615\t3\n",
      "10594\t14\n",
      "10584\t4\n",
      "10635\t6\n",
      "10632\t3\n",
      "10628\t4\n",
      "10627\t2\n",
      "10622\t9\n",
      "10619\t10\n"
     ]
    }
   ],
   "source": [
    "%%bash -s \"$DIR\" \"$patients_summary\"\n",
    "\n",
    "cat $2  | while IFS=, read p normal tumor; do\n",
    "INDIR=$1/analysis/11_PeptideBindingMHC/translation_evidence_NOCDS/${p}\n",
    "cat ${INDIR}/${p}*ids.txt | sort | uniq > ${INDIR}/${p}_translational_evidence.txt\n",
    "echo -e $p\"\\t\"$(wc -l < ${INDIR}/${p}_translational_evidence.txt) \n",
    "\n",
    "done"
   ]
  },
  {
   "cell_type": "markdown",
   "metadata": {},
   "source": [
    "Generate mini gtf of those lncRNA and pseudogenes tumor specific with coding potential according to two sources of RIbo-Seq data."
   ]
  },
  {
   "cell_type": "code",
   "execution_count": 12,
   "metadata": {},
   "outputs": [
    {
     "name": "stdout",
     "output_type": "stream",
     "text": [
      "10615\n",
      "10594\n",
      "10584\n",
      "10635\n",
      "10632\n",
      "10628\n",
      "10627\n",
      "10622\n",
      "10619\n"
     ]
    }
   ],
   "source": [
    "counter=0\n",
    "for p in patients_id:\n",
    "    print(p)\n",
    "    REF=DIR+\"/analysis/06_stringtie/stringtie_reference_annotations/\"+tumor_id[counter]+\"_reference_annotation_sorted.gtf\"     \n",
    "    with open(REF) as annotations:\n",
    "        annotation_lines = annotations.readlines()\n",
    "        csv_file=pd.read_csv(DIR+\"/analysis/11_PeptideBindingMHC/translation_evidence_NOCDS/\"+p+\"/\"+p+\"_translational_evidence.txt\", header=None)\n",
    "        g_id = []\n",
    "        g_id = list(csv_file.iloc[:,0])\n",
    "        OUT=DIR+\"/analysis/11_PeptideBindingMHC/translation_evidence_NOCDS/\"+p+\"/\"+p+\"_translational_evidence.gtf\"\n",
    "\n",
    "        with open(OUT, 'w') as out:\n",
    "            for line in annotation_lines:\n",
    "                if line.startswith('#'):\n",
    "                    next\n",
    "                else:\n",
    "                    splitted_line = line.split(\";\")\n",
    "                    ENST = splitted_line[1]\n",
    "                    ENST = re.findall('\"([^\"]*)\"', ENST)[0]\n",
    "                    if ENST.split(\".\")[0] in g_id:\n",
    "                        out.write(line)\n",
    "\n",
    "    counter = counter + 1\n",
    "\n",
    " "
   ]
  },
  {
   "cell_type": "markdown",
   "metadata": {},
   "source": [
    "Get fasta sequence of open reading frames from CIPHER that have ribo-seq support"
   ]
  },
  {
   "cell_type": "code",
   "execution_count": 13,
   "metadata": {},
   "outputs": [],
   "source": [
    "for p in patients_id:\n",
    "    file=DIR+\"/analysis/09_CIPHER/\"+p+\"/\"+p+\"_known_tumor_specific_genes_1FPKM_300kb_NOCDS_selected_8aa_cipher_all_orfs.fa\"\n",
    "    ids=list(pd.read_csv(DIR+\"/analysis/11_PeptideBindingMHC/translation_evidence_NOCDS/\"+p+\"/\"+p+\"_translational_evidence.txt\", header=None).iloc[:,0])\n",
    "    OUT=DIR+\"/analysis/11_PeptideBindingMHC/translation_evidence_NOCDS/\"+p+\"/\"+p+\"_translational_evidence.fa\"\n",
    "    with open(OUT, 'w') as out:\n",
    "        for seq_record in SeqIO.parse(file, 'fasta'):\n",
    "            if seq_record.id.split('.')[0] in ids:\n",
    "                out.write(\">%s\\n%s\\n\" %(seq_record.id, seq_record.seq))"
   ]
  },
  {
   "cell_type": "code",
   "execution_count": 14,
   "metadata": {},
   "outputs": [
    {
     "name": "stdout",
     "output_type": "stream",
     "text": [
      "10615\t6\n",
      "10594\t23\n",
      "10584\t8\n",
      "10635\t10\n",
      "10632\t2\n",
      "10628\t3\n",
      "10627\t0\n",
      "10622\t12\n",
      "10619\t8\n"
     ]
    }
   ],
   "source": [
    "%%bash -s \"$DIR\" \"$patients_summary\"\n",
    "\n",
    "cat $2 | while IFS=, read p normal tumor; do\n",
    "file=$1/analysis/11_PeptideBindingMHC/translation_evidence_NOCDS/${p}/${p}_translational_evidence.fa\n",
    "echo -e $p\"\\t\"$(grep '>' $file | wc -l) #orfs\n",
    "done"
   ]
  },
  {
   "cell_type": "markdown",
   "metadata": {},
   "source": [
    "PYTHON VENN DIAGRAMS PER PATIENTS"
   ]
  },
  {
   "cell_type": "code",
   "execution_count": 36,
   "metadata": {},
   "outputs": [
    {
     "data": {
      "image/png": "[encoded data removed]",
      "text/plain": [
       "<Figure size 432x288 with 1 Axes>"
      ]
     },
     "metadata": {},
     "output_type": "display_data"
    }
   ],
   "source": [
    "%matplotlib inline\n",
    "\n",
    "set1 = set(ouspenskaia['trans'])\n",
    "set2 = set(hcc['trans'])\n",
    "\n",
    "venn2([set1,set2], ('Ouspenskaia','HCC'))\n",
    "plt.show()"
   ]
  },
  {
   "cell_type": "code",
   "execution_count": 15,
   "metadata": {},
   "outputs": [],
   "source": [
    "%matplotlib inline\n",
    "#how many sequences are supported by both sources of evidence per patient\n",
    "for p in patients_id:\n",
    "    ouspenskaia = pd.read_csv(DIR+\"/analysis/11_PeptideBindingMHC/translation_evidence_NOCDS/\"+p+\"/\"+p+\"_translation_evidence_ouspenskaia.txt\")\n",
    "    if os.path.getsize(DIR+\"/analysis/11_PeptideBindingMHC/translation_evidence_NOCDS/\"+p+\"/\"+p+\"_translation_evidence_hcc.txt\") > 1: #is file is not empty\n",
    "        hcc = pd.read_csv(DIR+\"/analysis/11_PeptideBindingMHC/translation_evidence_NOCDS/\"+p+\"/\"+p+\"_translation_evidence_hcc.txt\")\n",
    "\n",
    "        set1 = set(ouspenskaia['trans'])\n",
    "        set2 = set(hcc['trans'])\n",
    "\n",
    "        venn2([set1,set2], ('Ouspenskaia','HCC'), set_colors=(\"#fdae6b\", \"#8856a7\"), alpha = 0.7)\n",
    "        plt.title(p)\n",
    "        plt.savefig(DIR+\"/results/plots/\"+p+\"_venndiagram_translation_evidence.jpeg\")\n",
    "        plt.close()"
   ]
  },
  {
   "cell_type": "code",
   "execution_count": 16,
   "metadata": {},
   "outputs": [],
   "source": [
    "#translate\n",
    "for p in patients_id:\n",
    "    INDIR=DIR+\"/analysis/11_PeptideBindingMHC/translation_evidence_NOCDS/\"+p\n",
    "    file= p + \"_translational_evidence.fa\"\n",
    "    outfile = file[:-3] + \"_PROTEIN.fa\"\n",
    "    with open (os.path.join(INDIR,outfile), 'w') as out:\n",
    "        for seq_record in SeqIO.parse(os.path.join(INDIR,file), \"fasta\"):\n",
    "            identif=str(seq_record.id)\n",
    "            sequence=str(seq_record.seq.translate())\n",
    "            out.write(\">\" + identif + \"\\n\" + sequence[:-1] + \"\\n\")\n"
   ]
  },
  {
   "cell_type": "markdown",
   "metadata": {},
   "source": [
    "**NetMHCpan**"
   ]
  },
  {
   "cell_type": "code",
   "execution_count": null,
   "metadata": {},
   "outputs": [],
   "source": [
    "%%bash -s \"$PROJECT\" \"$DIR\" \"$CLUSTERDIR\" \n",
    "\n",
    "######################################DONE IN CLUSTER###############################################\n",
    "\n",
    "sbatch --array=1-9 $2/scripts/4_neoantigen_prediction/netmhcpan_te.sh $1 $2 $3 #--array=1-n where n is the number of files to process"
   ]
  },
  {
   "cell_type": "markdown",
   "metadata": {},
   "source": [
    "Exploring netMHCpan output.\n",
    "\n",
    "Summary file **A** with peptides with binding affinity for at least 1 HLA allele + ENST + ENSG for each canonical / noncanonical with CIPHER / translation evidence \n",
    "\n",
    "Summary file **B** how many peptides have binding affinity respect to the total number of peptides"
   ]
  },
  {
   "cell_type": "code",
   "execution_count": 5,
   "metadata": {},
   "outputs": [
    {
     "name": "stdout",
     "output_type": "stream",
     "text": [
      "noncanonical_CIPHER\n",
      "10615\n",
      "10594\n",
      "10584\n",
      "10635\n",
      "10632\n",
      "10628\n",
      "10627\n",
      "10622\n",
      "10619\n",
      "canonical_CDS\n",
      "10615\n",
      "10594\n",
      "10584\n",
      "10635\n",
      "10632\n",
      "10628\n",
      "10627\n",
      "10622\n",
      "10619\n",
      "translation_evidence_NOCDS\n",
      "10615\n",
      "10594\n",
      "10584\n",
      "10635\n",
      "10632\n",
      "10628\n",
      "10627\n",
      "10622\n",
      "10619\n",
      "variant_calling\n",
      "10615\n",
      "10594\n",
      "10584\n",
      "10635\n",
      "10632\n",
      "10628\n",
      "10627\n",
      "10622\n",
      "10619\n"
     ]
    }
   ],
   "source": [
    "transcript_gene=pd.read_csv(os.path.join(GENOMEDIR,\"/biomart.v38.geneid_transid_genetype.csv\"),usecols=[0,1], names=['gene_id','ID'], skiprows=1)\n",
    "INDIR=DIR+\"/analysis/11_PeptideBindingMHC\"\n",
    "\n",
    "folders = [f.name for f in os.scandir(INDIR) if f.is_dir()]\n",
    "\n",
    "for f in folders:\n",
    "    print(f)\n",
    "    for p in patients_id:\n",
    "        print(p)\n",
    "        full_dir=INDIR+\"/\"+f+\"/\"+p\n",
    "        OUTFILE=full_dir+\"/\"+p+\"_peptides.csv\"\n",
    "        summary_OUTFILE=full_dir+\"/\"+p+\"_summary_total_peptides.csv\"\n",
    "        for file in os.listdir(full_dir):\n",
    "            if file.endswith(\".xls\"):\n",
    "                with open(summary_OUTFILE, 'w') as out:\n",
    "                    out.write(\"type,num_peptids,num_peptids_affinity,total\\n\")\n",
    "                    netmhcpan=full_dir+\"/\"+file\n",
    "                    df = pd.read_csv(netmhcpan, sep=\"\\t\",skiprows=1)\n",
    "                    selected_df = df[['Peptide','ID','NB']]\n",
    "                    total_peptides = len(selected_df.index)\n",
    "                    temp = selected_df[selected_df['NB'] > 0]\n",
    "                    binding_AF = len(temp.index)\n",
    "                    out.write(\"%s,%s,%s,total\\n\"%(f,str(total_peptides),str(binding_AF)))\n",
    "                    \n",
    "                    if f == \"noncanonical_CIPHER\":\n",
    "                        novel = selected_df[selected_df[\"ID\"].str.contains('STRG')]\n",
    "                        total_peptidesN = len(novel.index)\n",
    "                        tempN = novel[novel['NB'] > 0]\n",
    "                        binding_AFN = len(tempN.index)\n",
    "                        out.write(\"%s,%s,%s,novel\\n\"%(f,str(total_peptidesN),str(binding_AFN)))\n",
    "\n",
    "                        ENST = selected_df[selected_df[\"ID\"].str.contains('ENST')]\n",
    "                        total_peptidesK = len(ENST.index)\n",
    "                        tempK = ENST[ENST['NB'] > 0]\n",
    "                        binding_AFK = len(tempK.index)\n",
    "                        out.write(\"%s,%s,%s,annotated\\n\"%(f,str(total_peptidesK),str(binding_AFK)))\n",
    "                              \n",
    "                              \n",
    "                    temp_genes = temp.merge(transcript_gene, how='left', on=['ID'])\n",
    "                    temp_genes.rename(columns={'ID':'transcript_id'}, inplace=True)      \n",
    "                    temp_genes.to_csv(OUTFILE, index=False)\n",
    "                    "
   ]
  },
  {
   "cell_type": "markdown",
   "metadata": {},
   "source": [
    "**C** | general output file with binding affinity information"
   ]
  },
  {
   "cell_type": "code",
   "execution_count": 7,
   "metadata": {},
   "outputs": [],
   "source": [
    "INDIR=DIR+\"/analysis/11_PeptideBindingMHC\"\n",
    "folders = [f.name for f in os.scandir(INDIR) if f.is_dir()] #if variant calling is already performed, this line shoul be commented and the next one uncommented\n",
    "#folders=['noncanonical_CIPHER','canonical_CDS','translation_evidence_NOCDS']\n",
    "\n",
    "output=INDIR+\"/binding_affinity.csv\"\n",
    "absolute_df = pd.DataFrame()\n",
    "\n",
    "for p in patients_id:\n",
    "    for f in folders:\n",
    "        full_dir=INDIR+\"/\"+f+\"/\"+p+\"/\"\n",
    "        file=full_dir+p+\"_summary_total_peptides.csv\"\n",
    "        df = pd.read_csv(file, header=0)\n",
    "        df['patient'] = p\n",
    "        absolute_df = pd.concat([absolute_df, df])\n",
    "\n",
    "cols = list(absolute_df.columns)\n",
    "cols = [cols[-1]] + cols[:-1]\n",
    "absolute_df = absolute_df[cols]\n",
    "absolute_df.to_csv(output, index=False)"
   ]
  },
  {
   "cell_type": "markdown",
   "metadata": {},
   "source": [
    "At peptide level, are there redundancies? The same peptide several times."
   ]
  },
  {
   "cell_type": "code",
   "execution_count": 8,
   "metadata": {},
   "outputs": [
    {
     "name": "stdout",
     "output_type": "stream",
     "text": [
      "10615\n",
      "DUPLIS:  395 \tTOTAL:  145834  it represents a: 0.27\n",
      "10594\n",
      "DUPLIS:  427 \tTOTAL:  165410  it represents a: 0.26\n",
      "10584\n",
      "DUPLIS:  682 \tTOTAL:  197697  it represents a: 0.34\n",
      "10635\n",
      "DUPLIS:  669 \tTOTAL:  203225  it represents a: 0.33\n",
      "10632\n",
      "DUPLIS:  567 \tTOTAL:  169336  it represents a: 0.33\n",
      "10628\n",
      "Patient 10628 has no hits for translation evidence proteins\n",
      "DUPLIS:  479 \tTOTAL:  182478  it represents a: 0.26\n",
      "10627\n",
      "DUPLIS:  709 \tTOTAL:  285313  it represents a: 0.25\n",
      "10622\n",
      "DUPLIS:  486 \tTOTAL:  168878  it represents a: 0.29\n",
      "10619\n",
      "DUPLIS:  637 \tTOTAL:  204657  it represents a: 0.31\n"
     ]
    }
   ],
   "source": [
    "INDIR=DIR+\"/analysis/11_PeptideBindingMHC\"\n",
    "folders = [f.name for f in os.scandir(INDIR) if f.is_dir()]\n",
    "\n",
    "for p in patients_id:\n",
    "    print(p)\n",
    "    total=pd.DataFrame()\n",
    "    for f in folders:\n",
    "        INDIR=DIR+\"/analysis/11_PeptideBindingMHC\"\n",
    "        full_dir=INDIR+\"/\"+f+\"/\"+p+\"/\"\n",
    "        OUTFILE=INDIR+\"/\"+p+\"_total_peptides.csv\"\n",
    "        file=full_dir+p+\"_peptides.csv\"\n",
    "        try:\n",
    "            df = pd.read_csv(file,header=0)\n",
    "        except:\n",
    "            print(\"Patient\",p,\"has no hits for translation evidence proteins\")\n",
    "        df['method'] = f\n",
    "        total = pd.concat([total,df],ignore_index=True)\n",
    "    sorted_df = total.sort_values(by=['Peptide'])\n",
    "    duplis = sorted_df[sorted_df.duplicated(keep=False)]\n",
    "    percent=(len(duplis)*100)/len(sorted_df)\n",
    "    print(\"DUPLIS: \",len(duplis),\"\\tTOTAL: \",len(sorted_df),\" it represents a: %.2f\" %(percent))\n",
    "    without_duplis=sorted_df.drop_duplicates() #peptides comming from different genes???\n",
    "    sorted_df.to_csv(OUTFILE, index=False)"
   ]
  },
  {
   "cell_type": "markdown",
   "metadata": {},
   "source": [
    "## Tissue expression control (GTEx)\n",
    "\n",
    "GTEx is used as normal control to avoide false positive peptides coming from genes expressed in other healthy tissues "
   ]
  },
  {
   "cell_type": "code",
   "execution_count": null,
   "metadata": {},
   "outputs": [],
   "source": [
    "%%bash -s \"$GENOMEDIR\"\n",
    "\n",
    "cd $1\n",
    "wget https://storage.googleapis.com/gtex_analysis_v8/rna_seq_data/GTEx_Analysis_2017-06-05_v8_RNASeQCv1.1.9_gene_median_tpm.gct.gz"
   ]
  },
  {
   "cell_type": "code",
   "execution_count": 9,
   "metadata": {},
   "outputs": [],
   "source": [
    "GTEx=pd.read_csv(os.path.join(GENOMEDIR,\"GTEx_Analysis_2017-06-05_v8_RNASeQCv1.1.9_gene_median_tpm.gct\"), sep=\"\\t\", skiprows=2)\n",
    "GTEx.drop('Description', inplace=True, axis=1)\n",
    "GTEx['Name'] = GTEx['Name'].str[:-2]\n",
    "nc = pd.read_csv(DIR+\"/analysis/09_CIPHER/common_noncoding_genes.csv\")\n",
    "to_compare = nc.gene_id.values.tolist()\n",
    "\n",
    "output = DIR+\"/analysis/09_CIPHER/common_noncoding_genes_GTEx.csv\" #from all the non-protein-coding genes, which ones are present in GTEx\n",
    "\n",
    "shared = GTEx[GTEx['Name'].isin(to_compare)]\n",
    "shared.to_csv(output)\n",
    "\n",
    "c = pd.read_csv(DIR+\"/analysis/09_CIPHER/common_coding_genes.csv\") #from all the protein-coding genes, which ones are present in GTEx\n",
    "to_compare_c = c.gene_id.values.tolist()\n",
    "\n",
    "output_c = DIR+\"/analysis/09_CIPHER/common_coding_genes_GTEx.csv\"\n",
    "\n",
    "shared_c = GTEx[GTEx['Name'].isin(to_compare_c)]\n",
    "shared_c.to_csv(output_c)"
   ]
  },
  {
   "cell_type": "code",
   "execution_count": 10,
   "metadata": {},
   "outputs": [
    {
     "name": "stdout",
     "output_type": "stream",
     "text": [
      "[1] 218\n",
      "[1] \"out of:\"\n",
      "[1] 220\n"
     ]
    },
    {
     "name": "stderr",
     "output_type": "stream",
     "text": [
      "WARNING:rpy2.rinterface_lib.callbacks:R[write to console]: Saving 6.67 x 6.67 in image\n",
      "\n"
     ]
    },
    {
     "name": "stdout",
     "output_type": "stream",
     "text": [
      "[1] 16\n",
      "[1] \"out of:\"\n",
      "[1] 64\n"
     ]
    },
    {
     "name": "stderr",
     "output_type": "stream",
     "text": [
      "WARNING:rpy2.rinterface_lib.callbacks:R[write to console]: Saving 6.67 x 6.67 in image\n",
      "\n"
     ]
    }
   ],
   "source": [
    "%%R -i DIR,GENOMEDIR\n",
    "\n",
    "#####NONCODING\n",
    "GTEx_raw = read.csv(paste0(DIR,\"/analysis/09_CIPHER/common_noncoding_genes_GTEx.csv\"), row.names = 1)\n",
    "GTEx <- GTEx_raw\n",
    "GTEx_raw_long <- GTEx %>% pivot_longer(cols=!c(\"Name\"), values_to = \"FPKM\", names_to = \"tissue\")\n",
    "GTEx_raw_long$logFPKM <- log10(GTEx_raw_long$FPKM)\n",
    "tissue_group <- gsub(\"\\\\..*\", \"\", names(GTEx_raw[,2:55]))\n",
    "\n",
    "temp <- data.frame(tissue_group, names(GTEx_raw[,2:55]))\n",
    "names(temp)[2] <- \"tissue\"\n",
    "\n",
    "GTEx_raw_long <- merge(temp, GTEx_raw_long, by=\"tissue\")\n",
    "\n",
    "nb.cols <- 54\n",
    "mycolors <- colorRampPalette(brewer.pal(12, \"Paired\"))(nb.cols)\n",
    "\n",
    "ggplot(GTEx_raw_long, aes(x=tissue_group, y=logFPKM, fill=tissue_group))+\n",
    "  geom_boxplot(show.legend = FALSE) +\n",
    "  scale_fill_manual(values=mycolors) +\n",
    "  theme(axis.text.x = element_text(angle = 90, hjust=1))\n",
    "\n",
    "GTEx$sums <- rowSums(GTEx[,2:55])\n",
    "\n",
    "GTEx_new <- GTEx[GTEx$sums == 0,]\n",
    "GTEx <- GTEx[GTEx$sums != 0,]\n",
    "\n",
    "\n",
    "GTEx_out_FPKM1 <- GTEx[rowSums(GTEx[,2:55] > 1) > 15,]\n",
    "GTEx_out_FPKM05 <- GTEx[rowSums(GTEx[,2:55] > 0.5) > 15,]\n",
    "\n",
    "GTEx <- anti_join(GTEx, GTEx_out_FPKM05, by = \"Name\")\n",
    "GTEx_long <- GTEx %>% pivot_longer(cols=!c(\"Name\"), values_to = \"FPKM\", names_to = \"tissue\")\n",
    "GTEx_long <- merge(temp, GTEx_long, by=\"tissue\")\n",
    "\n",
    "not_useful_tissues <- c(\"Adipose\",\"Adrenal\",\"Artery\",\"Bladder\",\"Breasts\",\"Cells\",\"Cervix\",\"Colon\",\"Esophagus\",\"Fallopian\",\"Heart\",\"Kidney\",\"Liver\",\"Lung\",\"Minor\",\"Muscle\",\"Nerve\",\"Pancreas\",\"Pituitary\",\"Prostate\",\"Skin\",\"Small\",\"Spleen\",\"Stomach\",\"Thyroid\",\"Uterus\",\"Vagina\",\"Whole\")\n",
    "GTEx_long_not_useful <- GTEx_long[GTEx_long$tissue_group %in% not_useful_tissues,] #remove all the genes present in some of the tissue we are not interested in\n",
    "\n",
    "GTEx_not_useful <- GTEx_long_not_useful[,-c(2,6)] %>% pivot_wider(names_from=\"tissue\", values_from = \"FPKM\")\n",
    "GTEx_not_useful$sums <- rowSums(GTEx_not_useful[,2:24])\n",
    "GTEx_useful <- GTEx_not_useful[GTEx_not_useful$sums == 0,]\n",
    "\n",
    "\n",
    "####WE ARE INTERESTED IN GTEX_NEW AND GTEX_USEFUL\n",
    "\n",
    "ids_new <- GTEx_new %>% select(Name)\n",
    "ids_useful <- GTEx_useful %>% select(Name)\n",
    "ids <- rbind(ids_new, ids_useful)\n",
    "names(ids) <- c(\"gene_id\")\n",
    "\n",
    "trans_gene <- read.csv(paste0(GENOMEDIR,\"/biomart.v38.geneid_transid_genetype.csv\"))\n",
    "trans_gene <- trans_gene %>% select(1,3)\n",
    "names(trans_gene) <- c(\"gene_id\",\"gene_name\")\n",
    "\n",
    "ids <- merge(ids, trans_gene, by=\"gene_id\")\n",
    "print(nrow(ids))\n",
    "print(\"out of:\")\n",
    "print(nrow(GTEx))\n",
    "\n",
    "common <- read.csv(paste0(DIR,\"/analysis/09_CIPHER/common_noncoding_genes.csv\"))\n",
    "common_ids <- merge(ids, common[,c(\"transcript_id\",\"gene_id\",\"n\")], by=\"gene_id\")\n",
    "\n",
    "sorted_common_ids <- common_ids[order(common_ids$n, decreasing=TRUE),]\n",
    "write.table(sorted_common_ids, paste0(DIR,\"/analysis/09_CIPHER/common_noncoding_genes_tissues_checked.csv\"), col.names=TRUE, row.names=FALSE, quote=FALSE, sep=\",\")\n",
    "\n",
    "ggplot(sorted_common_ids, aes(x=n)) +\n",
    "  geom_bar(fill=\"#004D40\") +\n",
    "  geom_text(stat=\"count\", aes(label=..count..), vjust=-1, size = 2.5) +\n",
    "  ggtitle(\"Common non-coding genes across patients not present in other tissues | lncRNA & processed_pseudogenes\") +\n",
    "  theme(axis.title.x = element_blank(), axis.title.y = element_blank(), plot.title = element_text(face=\"bold\", size = 9), legend.position = \"none\") \n",
    "ggsave(file.path(DIR,\"/results/plots/common_noncoding_genes_GTEx_patients.png\"))\n",
    "\n",
    "#####CODING\n",
    "GTEx_raw = read.csv(paste0(DIR,\"/analysis/09_CIPHER/common_coding_genes_GTEx.csv\"), row.names = 1)\n",
    "GTEx <- GTEx_raw\n",
    "GTEx_raw_long <- GTEx %>% pivot_longer(cols=!c(\"Name\"), values_to = \"FPKM\", names_to = \"tissue\")\n",
    "GTEx_raw_long$logFPKM <- log10(GTEx_raw_long$FPKM)\n",
    "tissue_group <- gsub(\"\\\\..*\", \"\", names(GTEx_raw[,2:55]))\n",
    "\n",
    "temp <- data.frame(tissue_group, names(GTEx_raw[,2:55]))\n",
    "names(temp)[2] <- \"tissue\"\n",
    "\n",
    "GTEx_raw_long <- merge(temp, GTEx_raw_long, by=\"tissue\")\n",
    "\n",
    "nb.cols <- 54\n",
    "mycolors <- colorRampPalette(brewer.pal(12, \"Paired\"))(nb.cols)\n",
    "\n",
    "ggplot(GTEx_raw_long, aes(x=tissue_group, y=logFPKM, fill=tissue_group))+\n",
    "  geom_boxplot(show.legend = FALSE) +\n",
    "  scale_fill_manual(values=mycolors) +\n",
    "  theme(axis.text.x = element_text(angle = 90, hjust=1))\n",
    "\n",
    "GTEx$sums <- rowSums(GTEx[,2:55])\n",
    "\n",
    "GTEx_new <- GTEx[GTEx$sums == 0,]\n",
    "GTEx <- GTEx[GTEx$sums != 0,]\n",
    "\n",
    "\n",
    "GTEx_out_FPKM1 <- GTEx[rowSums(GTEx[,2:55] > 1) > 15,]\n",
    "GTEx_out_FPKM05 <- GTEx[rowSums(GTEx[,2:55] > 0.5) > 15,]\n",
    "\n",
    "GTEx <- anti_join(GTEx, GTEx_out_FPKM05, by = \"Name\")\n",
    "GTEx_long <- GTEx %>% pivot_longer(cols=!c(\"Name\"), values_to = \"FPKM\", names_to = \"tissue\")\n",
    "GTEx_long <- merge(temp, GTEx_long, by=\"tissue\")\n",
    "\n",
    "not_useful_tissues <- c(\"Adipose\",\"Adrenal\",\"Artery\",\"Bladder\",\"Breasts\",\"Cells\",\"Cervix\",\"Colon\",\"Esophagus\",\"Fallopian\",\"Heart\",\"Kidney\",\"Liver\",\"Lung\",\"Minor\",\"Muscle\",\"Nerve\",\"Pancreas\",\"Pituitary\",\"Prostate\",\"Skin\",\"Small\",\"Spleen\",\"Stomach\",\"Thyroid\",\"Uterus\",\"Vagina\",\"Whole\")\n",
    "GTEx_long_not_useful <- GTEx_long[GTEx_long$tissue_group %in% not_useful_tissues,]\n",
    "\n",
    "GTEx_not_useful <- GTEx_long_not_useful[,-c(2,6)] %>% pivot_wider(names_from=\"tissue\", values_from = \"FPKM\")\n",
    "GTEx_not_useful$sums <- rowSums(GTEx_not_useful[,2:24])\n",
    "GTEx_useful <- GTEx_not_useful[GTEx_not_useful$sums == 0,]\n",
    "\n",
    "\n",
    "####WE ARE INTERESTED IN GTEX_NEW AND GTEX_USEFUL\n",
    "\n",
    "ids_new <- GTEx_new %>% select(Name)\n",
    "ids_useful <- GTEx_useful %>% select(Name)\n",
    "ids <- rbind(ids_new, ids_useful)\n",
    "names(ids) <- c(\"gene_id\")\n",
    "\n",
    "ids <- merge(ids, trans_gene, by=\"gene_id\")\n",
    "print(nrow(ids))\n",
    "print(\"out of:\")\n",
    "print(nrow(GTEx))\n",
    "\n",
    "common <- read.csv(paste0(DIR,\"/analysis/09_CIPHER/common_coding_genes.csv\"))\n",
    "common_ids <- merge(ids, common[,c(\"transcript_id\",\"gene_id\",\"n\")], by=\"gene_id\")\n",
    "\n",
    "sorted_common_ids <- common_ids[order(common_ids$n, decreasing=TRUE),]\n",
    "write.table(sorted_common_ids, paste0(DIR,\"/analysis/09_CIPHER/common_coding_genes_tissues_checked.csv\"), col.names=TRUE, row.names=FALSE, quote=FALSE, sep=\",\")\n",
    "\n",
    "ggplot(sorted_common_ids, aes(x=n)) +\n",
    "  geom_bar(fill=\"#004D40\") +\n",
    "  geom_text(stat=\"count\", aes(label=..count..), vjust=-1, size = 2.5) +\n",
    "  ggtitle(\"Common non-coding genes across patients not present in other tissues | lncRNA & processed_pseudogenes\") +\n",
    "  theme(axis.title.x = element_blank(), axis.title.y = element_blank(), plot.title = element_text(face=\"bold\", size = 9), legend.position = \"none\") \n",
    "ggsave(file.path(DIR,\"/results/plots/common_coding_genes_GTEx_patients.png\"))\n",
    "\n"
   ]
  },
  {
   "cell_type": "code",
   "execution_count": 11,
   "metadata": {
    "scrolled": true
   },
   "outputs": [
    {
     "name": "stdout",
     "output_type": "stream",
     "text": [
      "10615\n",
      "noncanonical_CIPHER\n"
     ]
    },
    {
     "name": "stderr",
     "output_type": "stream",
     "text": [
      "/tmp/ipykernel_10294/3295328720.py:23: SettingWithCopyWarning: \n",
      "A value is trying to be set on a copy of a slice from a DataFrame.\n",
      "Try using .loc[row_indexer,col_indexer] = value instead\n",
      "\n",
      "See the caveats in the documentation: https://pandas.pydata.org/pandas-docs/stable/user_guide/indexing.html#returning-a-view-versus-a-copy\n",
      "  STRG_df['gene_id'] = STRG_df['transcript_id']\n"
     ]
    },
    {
     "name": "stdout",
     "output_type": "stream",
     "text": [
      "canonical_CDS\n",
      "translation_evidence_NOCDS\n",
      "10594\n",
      "noncanonical_CIPHER\n"
     ]
    },
    {
     "name": "stderr",
     "output_type": "stream",
     "text": [
      "/tmp/ipykernel_10294/3295328720.py:23: SettingWithCopyWarning: \n",
      "A value is trying to be set on a copy of a slice from a DataFrame.\n",
      "Try using .loc[row_indexer,col_indexer] = value instead\n",
      "\n",
      "See the caveats in the documentation: https://pandas.pydata.org/pandas-docs/stable/user_guide/indexing.html#returning-a-view-versus-a-copy\n",
      "  STRG_df['gene_id'] = STRG_df['transcript_id']\n"
     ]
    },
    {
     "name": "stdout",
     "output_type": "stream",
     "text": [
      "canonical_CDS\n",
      "translation_evidence_NOCDS\n",
      "10584\n",
      "noncanonical_CIPHER\n"
     ]
    },
    {
     "name": "stderr",
     "output_type": "stream",
     "text": [
      "/tmp/ipykernel_10294/3295328720.py:23: SettingWithCopyWarning: \n",
      "A value is trying to be set on a copy of a slice from a DataFrame.\n",
      "Try using .loc[row_indexer,col_indexer] = value instead\n",
      "\n",
      "See the caveats in the documentation: https://pandas.pydata.org/pandas-docs/stable/user_guide/indexing.html#returning-a-view-versus-a-copy\n",
      "  STRG_df['gene_id'] = STRG_df['transcript_id']\n"
     ]
    },
    {
     "name": "stdout",
     "output_type": "stream",
     "text": [
      "canonical_CDS\n",
      "translation_evidence_NOCDS\n",
      "10635\n",
      "noncanonical_CIPHER\n"
     ]
    },
    {
     "name": "stderr",
     "output_type": "stream",
     "text": [
      "/tmp/ipykernel_10294/3295328720.py:23: SettingWithCopyWarning: \n",
      "A value is trying to be set on a copy of a slice from a DataFrame.\n",
      "Try using .loc[row_indexer,col_indexer] = value instead\n",
      "\n",
      "See the caveats in the documentation: https://pandas.pydata.org/pandas-docs/stable/user_guide/indexing.html#returning-a-view-versus-a-copy\n",
      "  STRG_df['gene_id'] = STRG_df['transcript_id']\n"
     ]
    },
    {
     "name": "stdout",
     "output_type": "stream",
     "text": [
      "canonical_CDS\n",
      "translation_evidence_NOCDS\n",
      "10632\n",
      "noncanonical_CIPHER\n"
     ]
    },
    {
     "name": "stderr",
     "output_type": "stream",
     "text": [
      "/tmp/ipykernel_10294/3295328720.py:23: SettingWithCopyWarning: \n",
      "A value is trying to be set on a copy of a slice from a DataFrame.\n",
      "Try using .loc[row_indexer,col_indexer] = value instead\n",
      "\n",
      "See the caveats in the documentation: https://pandas.pydata.org/pandas-docs/stable/user_guide/indexing.html#returning-a-view-versus-a-copy\n",
      "  STRG_df['gene_id'] = STRG_df['transcript_id']\n"
     ]
    },
    {
     "name": "stdout",
     "output_type": "stream",
     "text": [
      "canonical_CDS\n",
      "translation_evidence_NOCDS\n",
      "10628\n",
      "noncanonical_CIPHER\n",
      "canonical_CDS\n",
      "translation_evidence_NOCDS\n",
      "10627\n",
      "noncanonical_CIPHER\n"
     ]
    },
    {
     "name": "stderr",
     "output_type": "stream",
     "text": [
      "/tmp/ipykernel_10294/3295328720.py:23: SettingWithCopyWarning: \n",
      "A value is trying to be set on a copy of a slice from a DataFrame.\n",
      "Try using .loc[row_indexer,col_indexer] = value instead\n",
      "\n",
      "See the caveats in the documentation: https://pandas.pydata.org/pandas-docs/stable/user_guide/indexing.html#returning-a-view-versus-a-copy\n",
      "  STRG_df['gene_id'] = STRG_df['transcript_id']\n"
     ]
    },
    {
     "name": "stdout",
     "output_type": "stream",
     "text": [
      "canonical_CDS\n",
      "translation_evidence_NOCDS\n",
      "10622\n",
      "noncanonical_CIPHER\n"
     ]
    },
    {
     "name": "stderr",
     "output_type": "stream",
     "text": [
      "/tmp/ipykernel_10294/3295328720.py:23: SettingWithCopyWarning: \n",
      "A value is trying to be set on a copy of a slice from a DataFrame.\n",
      "Try using .loc[row_indexer,col_indexer] = value instead\n",
      "\n",
      "See the caveats in the documentation: https://pandas.pydata.org/pandas-docs/stable/user_guide/indexing.html#returning-a-view-versus-a-copy\n",
      "  STRG_df['gene_id'] = STRG_df['transcript_id']\n"
     ]
    },
    {
     "name": "stdout",
     "output_type": "stream",
     "text": [
      "canonical_CDS\n",
      "translation_evidence_NOCDS\n",
      "10619\n",
      "noncanonical_CIPHER\n",
      "canonical_CDS\n",
      "translation_evidence_NOCDS\n"
     ]
    },
    {
     "name": "stderr",
     "output_type": "stream",
     "text": [
      "/tmp/ipykernel_10294/3295328720.py:23: SettingWithCopyWarning: \n",
      "A value is trying to be set on a copy of a slice from a DataFrame.\n",
      "Try using .loc[row_indexer,col_indexer] = value instead\n",
      "\n",
      "See the caveats in the documentation: https://pandas.pydata.org/pandas-docs/stable/user_guide/indexing.html#returning-a-view-versus-a-copy\n",
      "  STRG_df['gene_id'] = STRG_df['transcript_id']\n"
     ]
    }
   ],
   "source": [
    "#select peptides resulting from genes not expressed in adult tissues according to GTEx\n",
    "\n",
    "folders = [f.name for f in os.scandir(INDIR) if f.is_dir()] #if variant calling is already performed, this line shoul be commented and the next one uncommented\n",
    "#folders=['noncanonical_CIPHER','canonical_CDS','translation_evidence_NOCDS']\n",
    "for p in patients_id:\n",
    "    print(p)\n",
    "    for f in folders:\n",
    "        print(f)\n",
    "        if f == \"canonical_CDS\":\n",
    "            checked=pd.read_csv(DIR+\"/analysis/09_CIPHER/common_coding_genes_tissues_checked.csv\", header=0)\n",
    "            to_compare=checked.gene_id.values.tolist()\n",
    "        else:\n",
    "            checked=pd.read_csv(DIR+\"/analysis/09_CIPHER/common_noncoding_genes_tissues_checked.csv\", header=0)\n",
    "            to_compare=checked.gene_id.values.tolist()\n",
    "            \n",
    "        match=pd.DataFrame()\n",
    "        INDIR=DIR+\"/analysis/11_PeptideBindingMHC/\"+f+\"/\"+p\n",
    "        filename= p+\"_peptides.csv\"\n",
    "        \n",
    "        outname= p+\"_peptides_GTEx.csv\" #generate file with those peptides coming from genes that have been selected after GTEx control\n",
    "        binding_affinity = pd.read_csv(INDIR+\"/\"+filename)\n",
    "        match = binding_affinity[binding_affinity['gene_id'].isin(to_compare)]\n",
    "        try:\n",
    "            STRG_df = binding_affinity[binding_affinity['transcript_id'].str.contains('STRG')]\n",
    "            STRG_df['gene_id'] = STRG_df['transcript_id']\n",
    "            match = pd.concat([match,STRG_df])\n",
    "        except:\n",
    "            pass\n",
    "\n",
    "        match.to_csv(os.path.join(INDIR,outname), index=False)"
   ]
  },
  {
   "cell_type": "markdown",
   "metadata": {},
   "source": [
    "Exploring netMHCpan output with GTEx filter\n",
    "\n",
    "Summary file **A** how many peptides have binding affinity respect to the total number of peptides"
   ]
  },
  {
   "cell_type": "code",
   "execution_count": 12,
   "metadata": {},
   "outputs": [
    {
     "name": "stdout",
     "output_type": "stream",
     "text": [
      "noncanonical_CIPHER\n",
      "10615\n",
      "                  type  num_peptids  num_peptids_affinity      total\n",
      "0  noncanonical_CIPHER      1131199                141076      total\n",
      "1  noncanonical_CIPHER          229                    19      novel\n",
      "2  noncanonical_CIPHER      1130970                141057  annotated\n",
      "10594\n",
      "                  type  num_peptids  num_peptids_affinity      total\n",
      "0  noncanonical_CIPHER      1134382                158852      total\n",
      "1  noncanonical_CIPHER         7016                  1056      novel\n",
      "2  noncanonical_CIPHER      1127366                157796  annotated\n",
      "10584\n",
      "                  type  num_peptids  num_peptids_affinity      total\n",
      "0  noncanonical_CIPHER      1161637                186978      total\n",
      "1  noncanonical_CIPHER          592                    88      novel\n",
      "2  noncanonical_CIPHER      1161045                186890  annotated\n",
      "10635\n",
      "                  type  num_peptids  num_peptids_affinity      total\n",
      "0  noncanonical_CIPHER      1033621                201101      total\n",
      "1  noncanonical_CIPHER         1527                   329      novel\n",
      "2  noncanonical_CIPHER      1032094                200772  annotated\n",
      "10632\n",
      "                  type  num_peptids  num_peptids_affinity      total\n",
      "0  noncanonical_CIPHER      1087516                165411      total\n",
      "1  noncanonical_CIPHER           88                    18      novel\n",
      "2  noncanonical_CIPHER      1087428                165393  annotated\n",
      "10628\n",
      "                  type  num_peptids  num_peptids_affinity      total\n",
      "0  noncanonical_CIPHER       974339                181718      total\n",
      "1  noncanonical_CIPHER            0                     0      novel\n",
      "2  noncanonical_CIPHER       974339                181718  annotated\n",
      "10627\n",
      "                  type  num_peptids  num_peptids_affinity      total\n",
      "0  noncanonical_CIPHER      1256233                263784      total\n",
      "1  noncanonical_CIPHER          703                   134      novel\n",
      "2  noncanonical_CIPHER      1255530                263650  annotated\n",
      "10622\n",
      "                  type  num_peptids  num_peptids_affinity      total\n",
      "0  noncanonical_CIPHER      1015746                162957      total\n",
      "1  noncanonical_CIPHER         7170                  1236      novel\n",
      "2  noncanonical_CIPHER      1008576                161721  annotated\n",
      "10619\n",
      "                  type  num_peptids  num_peptids_affinity      total\n",
      "0  noncanonical_CIPHER      1125669                202975      total\n",
      "1  noncanonical_CIPHER          272                    48      novel\n",
      "2  noncanonical_CIPHER      1125397                202927  annotated\n",
      "canonical_CDS\n",
      "10615\n",
      "10594\n",
      "10584\n",
      "10635\n",
      "10632\n",
      "10628\n",
      "10627\n",
      "10622\n",
      "10619\n",
      "translation_evidence_NOCDS\n",
      "10615\n",
      "10594\n",
      "10584\n",
      "10635\n",
      "10632\n",
      "10628\n",
      "10627\n",
      "10622\n",
      "10619\n"
     ]
    }
   ],
   "source": [
    "transcript_gene=pd.read_csv(os.path.join(GENOMEDIR,\"/biomart.v38.geneid_transid_genetype.csv\"),usecols=[0,1], names=['gene_id','ID'], skiprows=1)\n",
    "INDIR=DIR+\"/analysis/11_PeptideBindingMHC\"\n",
    "\n",
    "#folders = [f.name for f in os.scandir(INDIR) if f.is_dir()]\n",
    "folders=['noncanonical_CIPHER','canonical_CDS','translation_evidence_NOCDS']\n",
    "\n",
    "for f in folders:\n",
    "    print(f)\n",
    "    for p in patients_id:\n",
    "        print(p)\n",
    "        full_dir=INDIR+\"/\"+f+\"/\"+p\n",
    "        gtex_file=full_dir+\"/\"+p+\"_peptides_GTEx.csv\"\n",
    "        summary_OUTFILE=full_dir+\"/\"+p+\"_summary_total_peptides_GTEx.csv\"\n",
    "        file=p+\"_summary_total_peptides.csv\"\n",
    "        with open(summary_OUTFILE, 'w') as out:\n",
    "            out.write(\"type,num_peptids,num_peptids_affinity,total\\n\")\n",
    "            full_summary=full_dir+\"/\"+file\n",
    "            df = pd.read_csv(full_summary, header=0)\n",
    "            total_df = df[df[\"total\"] == 'total']\n",
    "            total_peptides = total_df.iat[0,1]\n",
    "\n",
    "\n",
    "            gtex_df = pd.read_csv(gtex_file, header=0)\n",
    "            peptides = gtex_df.Peptide.values.tolist()\n",
    "            binding_AF = len(gtex_df.index)\n",
    "            out.write(\"%s,%s,%s,total\\n\"%(f,str(total_peptides),str(binding_AF)))\n",
    "\n",
    "            if f == \"noncanonical_CIPHER\":\n",
    "                print(df)\n",
    "                novel = df[df[\"total\"] == 'novel']\n",
    "                total_peptidesN = novel.iat[0,1]\n",
    "                novel_gtex = gtex_df[gtex_df['transcript_id'].str.contains('STRG')]\n",
    "                binding_AFN = len(novel_gtex.index)\n",
    "                out.write(\"%s,%s,%s,novel\\n\"%(f,str(total_peptidesN),str(binding_AFN)))\n",
    "\n",
    "                ENST = df[df[\"total\"] == 'annotated']\n",
    "                total_peptidesK = ENST.iat[0,1]\n",
    "\n",
    "                enst_gtex = gtex_df[gtex_df['transcript_id'].str.contains('ENST')]\n",
    "                binding_AFK = len(enst_gtex.index)\n",
    "                out.write(\"%s,%s,%s,annotated\\n\"%(f,str(total_peptidesK),str(binding_AFK)))\n",
    "\n",
    "                    "
   ]
  },
  {
   "cell_type": "markdown",
   "metadata": {},
   "source": [
    "**C** | general output file with binding affinity information"
   ]
  },
  {
   "cell_type": "code",
   "execution_count": 13,
   "metadata": {},
   "outputs": [],
   "source": [
    "INDIR=DIR+\"/analysis/11_PeptideBindingMHC\"\n",
    "folders = [f.name for f in os.scandir(INDIR) if f.is_dir()]\n",
    "#folders=['noncanonical_CIPHER','canonical_CDS','translation_evidence_NOCDS']\n",
    "\n",
    "output=INDIR+\"/binding_affinity_GTEx.csv\"\n",
    "absolute_df = pd.DataFrame()\n",
    "\n",
    "for p in patients_id:\n",
    "    for f in folders:\n",
    "        full_dir=INDIR+\"/\"+f+\"/\"+p+\"/\"\n",
    "        \n",
    "        file=full_dir+p+\"_summary_total_peptides_GTEx.csv\"\n",
    "        df = pd.read_csv(file, header=0)\n",
    "\n",
    "        df['patient'] = p\n",
    "        absolute_df = pd.concat([absolute_df, df])\n",
    "\n",
    "cols = list(absolute_df.columns)\n",
    "cols = [cols[-1]] + cols[:-1]\n",
    "absolute_df = absolute_df[cols]\n",
    "absolute_df.to_csv(output, index=False)"
   ]
  },
  {
   "cell_type": "markdown",
   "metadata": {},
   "source": [
    "Exploring novel peptides shared between patients "
   ]
  },
  {
   "cell_type": "code",
   "execution_count": 14,
   "metadata": {
    "scrolled": true
   },
   "outputs": [
    {
     "name": "stdout",
     "output_type": "stream",
     "text": [
      "10615\n"
     ]
    },
    {
     "name": "stderr",
     "output_type": "stream",
     "text": [
      "/tmp/ipykernel_10294/3160070270.py:9: SettingWithCopyWarning: \n",
      "A value is trying to be set on a copy of a slice from a DataFrame.\n",
      "Try using .loc[row_indexer,col_indexer] = value instead\n",
      "\n",
      "See the caveats in the documentation: https://pandas.pydata.org/pandas-docs/stable/user_guide/indexing.html#returning-a-view-versus-a-copy\n",
      "  novel_peptides['gene_id'] = novel_peptides['transcript_id']\n"
     ]
    },
    {
     "name": "stdout",
     "output_type": "stream",
     "text": [
      "with duplis:  19\n",
      "without duplis:  19\n",
      "10594\n"
     ]
    },
    {
     "name": "stderr",
     "output_type": "stream",
     "text": [
      "/tmp/ipykernel_10294/3160070270.py:9: SettingWithCopyWarning: \n",
      "A value is trying to be set on a copy of a slice from a DataFrame.\n",
      "Try using .loc[row_indexer,col_indexer] = value instead\n",
      "\n",
      "See the caveats in the documentation: https://pandas.pydata.org/pandas-docs/stable/user_guide/indexing.html#returning-a-view-versus-a-copy\n",
      "  novel_peptides['gene_id'] = novel_peptides['transcript_id']\n"
     ]
    },
    {
     "name": "stdout",
     "output_type": "stream",
     "text": [
      "with duplis:  1056\n",
      "without duplis:  1054\n",
      "10584\n"
     ]
    },
    {
     "name": "stderr",
     "output_type": "stream",
     "text": [
      "/tmp/ipykernel_10294/3160070270.py:9: SettingWithCopyWarning: \n",
      "A value is trying to be set on a copy of a slice from a DataFrame.\n",
      "Try using .loc[row_indexer,col_indexer] = value instead\n",
      "\n",
      "See the caveats in the documentation: https://pandas.pydata.org/pandas-docs/stable/user_guide/indexing.html#returning-a-view-versus-a-copy\n",
      "  novel_peptides['gene_id'] = novel_peptides['transcript_id']\n"
     ]
    },
    {
     "name": "stdout",
     "output_type": "stream",
     "text": [
      "with duplis:  88\n",
      "without duplis:  88\n",
      "10635\n"
     ]
    },
    {
     "name": "stderr",
     "output_type": "stream",
     "text": [
      "/tmp/ipykernel_10294/3160070270.py:9: SettingWithCopyWarning: \n",
      "A value is trying to be set on a copy of a slice from a DataFrame.\n",
      "Try using .loc[row_indexer,col_indexer] = value instead\n",
      "\n",
      "See the caveats in the documentation: https://pandas.pydata.org/pandas-docs/stable/user_guide/indexing.html#returning-a-view-versus-a-copy\n",
      "  novel_peptides['gene_id'] = novel_peptides['transcript_id']\n"
     ]
    },
    {
     "name": "stdout",
     "output_type": "stream",
     "text": [
      "with duplis:  329\n",
      "without duplis:  316\n",
      "10632\n"
     ]
    },
    {
     "name": "stderr",
     "output_type": "stream",
     "text": [
      "/tmp/ipykernel_10294/3160070270.py:9: SettingWithCopyWarning: \n",
      "A value is trying to be set on a copy of a slice from a DataFrame.\n",
      "Try using .loc[row_indexer,col_indexer] = value instead\n",
      "\n",
      "See the caveats in the documentation: https://pandas.pydata.org/pandas-docs/stable/user_guide/indexing.html#returning-a-view-versus-a-copy\n",
      "  novel_peptides['gene_id'] = novel_peptides['transcript_id']\n"
     ]
    },
    {
     "name": "stdout",
     "output_type": "stream",
     "text": [
      "with duplis:  18\n",
      "without duplis:  18\n",
      "10628\n",
      "with duplis:  0\n",
      "without duplis:  0\n",
      "10627\n"
     ]
    },
    {
     "name": "stderr",
     "output_type": "stream",
     "text": [
      "/tmp/ipykernel_10294/3160070270.py:9: SettingWithCopyWarning: \n",
      "A value is trying to be set on a copy of a slice from a DataFrame.\n",
      "Try using .loc[row_indexer,col_indexer] = value instead\n",
      "\n",
      "See the caveats in the documentation: https://pandas.pydata.org/pandas-docs/stable/user_guide/indexing.html#returning-a-view-versus-a-copy\n",
      "  novel_peptides['gene_id'] = novel_peptides['transcript_id']\n"
     ]
    },
    {
     "name": "stdout",
     "output_type": "stream",
     "text": [
      "with duplis:  134\n",
      "without duplis:  134\n",
      "10622\n"
     ]
    },
    {
     "name": "stderr",
     "output_type": "stream",
     "text": [
      "/tmp/ipykernel_10294/3160070270.py:9: SettingWithCopyWarning: \n",
      "A value is trying to be set on a copy of a slice from a DataFrame.\n",
      "Try using .loc[row_indexer,col_indexer] = value instead\n",
      "\n",
      "See the caveats in the documentation: https://pandas.pydata.org/pandas-docs/stable/user_guide/indexing.html#returning-a-view-versus-a-copy\n",
      "  novel_peptides['gene_id'] = novel_peptides['transcript_id']\n"
     ]
    },
    {
     "name": "stdout",
     "output_type": "stream",
     "text": [
      "with duplis:  1236\n",
      "without duplis:  1154\n",
      "10619\n",
      "with duplis:  48\n",
      "without duplis:  48\n"
     ]
    },
    {
     "name": "stderr",
     "output_type": "stream",
     "text": [
      "/tmp/ipykernel_10294/3160070270.py:9: SettingWithCopyWarning: \n",
      "A value is trying to be set on a copy of a slice from a DataFrame.\n",
      "Try using .loc[row_indexer,col_indexer] = value instead\n",
      "\n",
      "See the caveats in the documentation: https://pandas.pydata.org/pandas-docs/stable/user_guide/indexing.html#returning-a-view-versus-a-copy\n",
      "  novel_peptides['gene_id'] = novel_peptides['transcript_id']\n"
     ]
    }
   ],
   "source": [
    "INDIR=DIR+\"/analysis/11_PeptideBindingMHC\"\n",
    "\n",
    "total_peptides_df = pd.DataFrame()\n",
    "for p in patients_id:\n",
    "    print(p)\n",
    "    peptides = pd.read_csv(INDIR+\"/\"+p+\"_total_peptides.csv\")\n",
    "    try:\n",
    "        novel_peptides = peptides[peptides['transcript_id'].str.contains('STRG')]\n",
    "        novel_peptides['gene_id'] = novel_peptides['transcript_id']\n",
    "        novel_peptides_df = novel_peptides['Peptide']\n",
    "        print(\"with duplis: \",len(novel_peptides_df))\n",
    "\n",
    "        novel_peptides_df = novel_peptides_df.drop_duplicates()\n",
    "        print(\"without duplis: \",len(novel_peptides_df))\n",
    "        total_peptides_df= pd.concat([total_peptides_df, novel_peptides_df])\n",
    "    except:\n",
    "        print(\"Patient \",p,\" has no novel peptides.\")\n",
    "\n",
    "total_peptides_counts = total_peptides_df.value_counts().rename_axis('peptide').reset_index(name='counts')\n",
    "\n"
   ]
  },
  {
   "cell_type": "code",
   "execution_count": 19,
   "metadata": {
    "scrolled": true
   },
   "outputs": [
    {
     "data": {
      "text/html": [
       "<div>\n",
       "<style scoped>\n",
       "    .dataframe tbody tr th:only-of-type {\n",
       "        vertical-align: middle;\n",
       "    }\n",
       "\n",
       "    .dataframe tbody tr th {\n",
       "        vertical-align: top;\n",
       "    }\n",
       "\n",
       "    .dataframe thead th {\n",
       "        text-align: right;\n",
       "    }\n",
       "</style>\n",
       "<table border=\"1\" class=\"dataframe\">\n",
       "  <thead>\n",
       "    <tr style=\"text-align: right;\">\n",
       "      <th></th>\n",
       "      <th>peptide</th>\n",
       "      <th>counts</th>\n",
       "    </tr>\n",
       "  </thead>\n",
       "  <tbody>\n",
       "    <tr>\n",
       "      <th>0</th>\n",
       "      <td>KGDDENKRI</td>\n",
       "      <td>3</td>\n",
       "    </tr>\n",
       "    <tr>\n",
       "      <th>1</th>\n",
       "      <td>DEIVYNCQI</td>\n",
       "      <td>3</td>\n",
       "    </tr>\n",
       "    <tr>\n",
       "      <th>2</th>\n",
       "      <td>REDFRCTLI</td>\n",
       "      <td>2</td>\n",
       "    </tr>\n",
       "    <tr>\n",
       "      <th>3</th>\n",
       "      <td>RPQPPGTQA</td>\n",
       "      <td>2</td>\n",
       "    </tr>\n",
       "    <tr>\n",
       "      <th>4</th>\n",
       "      <td>VEFQLQSHL</td>\n",
       "      <td>2</td>\n",
       "    </tr>\n",
       "    <tr>\n",
       "      <th>...</th>\n",
       "      <td>...</td>\n",
       "      <td>...</td>\n",
       "    </tr>\n",
       "    <tr>\n",
       "      <th>2756</th>\n",
       "      <td>KDNGDTDLF</td>\n",
       "      <td>1</td>\n",
       "    </tr>\n",
       "    <tr>\n",
       "      <th>2757</th>\n",
       "      <td>KDYDLACLL</td>\n",
       "      <td>1</td>\n",
       "    </tr>\n",
       "    <tr>\n",
       "      <th>2758</th>\n",
       "      <td>KEAKNLHKR</td>\n",
       "      <td>1</td>\n",
       "    </tr>\n",
       "    <tr>\n",
       "      <th>2759</th>\n",
       "      <td>KECGSGLML</td>\n",
       "      <td>1</td>\n",
       "    </tr>\n",
       "    <tr>\n",
       "      <th>2760</th>\n",
       "      <td>YYTIVISLH</td>\n",
       "      <td>1</td>\n",
       "    </tr>\n",
       "  </tbody>\n",
       "</table>\n",
       "<p>2761 rows × 2 columns</p>\n",
       "</div>"
      ],
      "text/plain": [
       "        peptide  counts\n",
       "0     KGDDENKRI       3\n",
       "1     DEIVYNCQI       3\n",
       "2     REDFRCTLI       2\n",
       "3     RPQPPGTQA       2\n",
       "4     VEFQLQSHL       2\n",
       "...         ...     ...\n",
       "2756  KDNGDTDLF       1\n",
       "2757  KDYDLACLL       1\n",
       "2758  KEAKNLHKR       1\n",
       "2759  KECGSGLML       1\n",
       "2760  YYTIVISLH       1\n",
       "\n",
       "[2761 rows x 2 columns]"
      ]
     },
     "execution_count": 19,
     "metadata": {},
     "output_type": "execute_result"
    }
   ],
   "source": [
    "total_peptides_counts.to_csv(DIR+\"/analysis/novel_neoantigens.csv\", index=False)\n",
    "total_peptides_counts"
   ]
  }
 ],
 "metadata": {
  "kernelspec": {
   "display_name": "Python 3 (ipykernel)",
   "language": "python",
   "name": "python3"
  },
  "language_info": {
   "codemirror_mode": {
    "name": "ipython",
    "version": 3
   },
   "file_extension": ".py",
   "mimetype": "text/x-python",
   "name": "python",
   "nbconvert_exporter": "python",
   "pygments_lexer": "ipython3",
   "version": "3.9.12"
  }
 },
 "nbformat": 4,
 "nbformat_minor": 4
}
