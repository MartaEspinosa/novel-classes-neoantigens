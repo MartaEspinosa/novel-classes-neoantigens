{
 "cells": [
  {
   "cell_type": "markdown",
   "metadata": {},
   "source": [
    "# IDENTIFICATION OF NOVEL CLASSES OF NEOANTIGENS IN CANCER | Transcriptome Assembly"
   ]
  },
  {
   "cell_type": "code",
   "execution_count": null,
   "metadata": {},
   "outputs": [],
   "source": [
    "%load_ext rpy2.ipython"
   ]
  },
  {
   "cell_type": "markdown",
   "metadata": {},
   "source": [
    "## 0. Data preparation\n",
    "\n",
    "This first cell should be modified according to the data that is going to be used. It is only available for datasets with paired samples per patient: normal and tumor. \n",
    "\n",
    "The **PROJECT** variable should be changed according to the GEO identifier.\n",
    "\n",
    "From the GEO website, the *SRR_Acc_List.txt* and *SraRunTable.txt* files should be manually downloaded and save in a directory. This directory should be specified in **SRR** variable.\n",
    "\n",
    "The pipeline is developed with the intention of running the most computationally expensive programs in a cluster. \n",
    "In this case, a Gluster File System has been used. The code to run on a cluster may need to be adapted."
   ]
  },
  {
   "cell_type": "code",
   "execution_count": null,
   "metadata": {
    "scrolled": true
   },
   "outputs": [],
   "source": [
    "import os,re,shutil,glob,openpyxl\n",
    "import pandas as pd\n",
    "from Bio import SeqIO\n",
    "from gtfparse import read_gtf\n",
    "from matplotlib_venn import venn2, venn2_circles, venn2_unweighted\n",
    "from matplotlib import pyplot as plt\n",
    "from IPython.display import Image\n",
    "\n",
    "PROJECT=\"GSE193567\"\n",
    "\n",
    "DIR=os.path.join(\"data\",PROJECT)\n",
    "\n",
    "try:\n",
    "    os.makedirs(DIR) #path where to store all the itermediate steps and outputs of the pipeline\n",
    "except:\n",
    "    print(\"Directory for %s already exists\" %PROJECT)\n",
    "    \n",
    "CLUSTERDIR=\"/users/genomics/marta\" #path where to run and store things that run in a cluster\n",
    "SRR=\"/projects_eg/datasets/\"+PROJECT # path where SRR_Acc_List.txt and SraRunTable.txt are stored. It should be inside a folder named with GEO accession\n",
    "SRR_ACC=os.path.join(SRR,\"SRR_Acc_List.txt\") \n",
    "SRA=os.path.join(SRR,\"SraRunTable.txt\")\n",
    "\n",
    "FASTQDIR=os.path.join(DIR,\"fastq_files\") #path where to store fastq files\n",
    "try:\n",
    "    os.mkdir(FASTQDIR)\n",
    "except:\n",
    "    print(\"Fastq_files directory exists\")\n",
    "    \n",
    "shutil.copy(SRR_ACC, os.path.join(FASTQDIR,\"SRR_Acc_List.txt\"))\n",
    "shutil.copy(SRA, os.path.join(FASTQDIR,\"SraRunTable.txt\"))\n",
    "\n",
    "GENOMEDIR=\"genomes\"\n",
    "\n",
    "try:\n",
    "    os.makedirs(os.path.join(DIR,\"analysis\"))\n",
    "    os.makedirs(os.path.join(DIR,\"results\"))\n",
    "    #os.makedirs(os.path.join(DIR,\"scripts\"))\n",
    "except:\n",
    "    print(\"Directory exists\")\n",
    "\n"
   ]
  },
  {
   "cell_type": "code",
   "execution_count": null,
   "metadata": {
    "scrolled": true
   },
   "outputs": [],
   "source": [
    "%%R\n",
    "\n",
    "require(tidyr)\n",
    "require(dplyr)\n",
    "require(rtracklayer)\n",
    "#library(purrr)\n",
    "require(ggplot2)\n",
    "require(RColorBrewer)\n",
    "require(devtools)\n",
    "require(stringr)\n",
    "require(edgeR)"
   ]
  },
  {
   "cell_type": "markdown",
   "metadata": {},
   "source": [
    "Get a three column file with patient_id normal_id tumor_id for latter usage "
   ]
  },
  {
   "cell_type": "code",
   "execution_count": null,
   "metadata": {},
   "outputs": [],
   "source": [
    "metadata = pd.read_csv(os.path.join(FASTQDIR.split(\"/fastq_files\")[0],\"SraRunTable.txt\"))\n",
    "metadata = metadata[['Run','Individual','tissue']]\n",
    "\n",
    "normal = metadata[metadata['tissue'] == \"non-tumor\"]\n",
    "normal = normal[['Individual','Run']]\n",
    "\n",
    "tumor = metadata[metadata['tissue'] == \"tumor\"]\n",
    "tumor = tumor[['Individual','Run']].rename(columns ={'Run' : 'Run_t'})\n",
    "\n",
    "patients = pd.merge(normal, tumor, on=['Individual'])\n",
    "patients['Individual'] = patients['Individual'].str.split(' ').str[1]\n",
    "patients.to_csv(os.path.join(DIR,\"results/patients.csv\"),index=False, header=False)\n",
    "patients_summary = os.path.join(DIR,\"results/patients.csv\")\n",
    "\n",
    "patients_id=list(patients.iloc[:,0])\n",
    "normal_id=list(patients.iloc[:,1])\n",
    "tumor_id=list(patients.iloc[:,2])\n",
    "\n",
    "patients"
   ]
  },
  {
   "cell_type": "markdown",
   "metadata": {},
   "source": [
    "## 06.Transcript assembly with StringTie"
   ]
  },
  {
   "cell_type": "code",
   "execution_count": null,
   "metadata": {},
   "outputs": [],
   "source": [
    "%%bash -s \"$DIR\"\n",
    "\n",
    "mkdir $1/analysis/06_stringtie"
   ]
  },
  {
   "cell_type": "code",
   "execution_count": null,
   "metadata": {},
   "outputs": [],
   "source": [
    "%%bash -s \"$PROJECT\" \"$CLUSTERDIR\" \"$DIR\" \"$GENOMEDIR\"\n",
    "\n",
    "######################################DONE IN CLUSTER###############################################\n",
    "\n",
    "sbatch $3/scripts/1_transcriptome_assembly/loop_stringtie.sh $1 $2 $3 $4"
   ]
  },
  {
   "cell_type": "markdown",
   "metadata": {},
   "source": [
    "Make summary files with transcriptome"
   ]
  },
  {
   "cell_type": "code",
   "execution_count": null,
   "metadata": {},
   "outputs": [],
   "source": [
    "%%bash -s \"$DIR\"\n",
    "## Total transcriptome + Presumably annotated + Presumably novel\n",
    "OUT=$1/results/transcriptome.txt\n",
    "if [ -f \"$OUT\" ] ; then\n",
    "    rm \"$OUT\"\n",
    "fi\n",
    "echo -e \"Sample\\tTotal_transcripts\\tAnnotated_transcripts\\tNovel_transcript\" >> $OUT\n",
    "\n",
    "for file in $1/analysis/06_stringtie/*gtf; do\n",
    "    if [[ ${file} != *\"cov\"* ]]; then \n",
    "        name=\"${file%%.*}\"\n",
    "        name=\"${name##*/}\"\n",
    "        echo -e $name\"\\t\"$(awk '($3 == \"transcript\") {print}' $file | wc -l)\"\\t\"$(awk '($3 == \"transcript\") {print}' $file | grep \"reference\" | wc -l)\"\\t\"$(awk '($3 == \"transcript\") {print}' $file | grep -v \"reference\" | wc -l) >> $OUT\n",
    "    fi\n",
    "done\n"
   ]
  },
  {
   "cell_type": "markdown",
   "metadata": {},
   "source": [
    "Pass to transcripts to genes"
   ]
  },
  {
   "cell_type": "code",
   "execution_count": null,
   "metadata": {},
   "outputs": [],
   "source": [
    "%%R -i DIR\n",
    "\n",
    "# read the stringtie files\n",
    "gtf_filenames <- list.files(file.path(DIR,\"analysis/06_stringtie\"), pattern = \"SRR[0-9]+\\\\.gtf\")\n",
    "gtf_filepaths <- list.files(file.path(DIR,\"analysis/06_stringtie\"), pattern = \"SRR[0-9]+\\\\.gtf\", full.names = T)\n",
    "\n",
    "for(i in 1:length(gtf_filepaths)) {\n",
    "  name <- substr(gtf_filenames[i],1,11) # considering GEO accession ids of 10 characters\n",
    "  gtf.gr <- rtracklayer::import(gtf_filepaths[i])\n",
    "  gtf.df <- as.data.frame(gtf.gr)\n",
    "  genes <- unique(gtf.df[,c(\"gene_id\",\"ref_gene_name\")])\n",
    "  filename=paste0(DIR,\"/analysis/06_stringtie/\",name,\"_genes.gtf\") #get one of each to know the number of genes if we consider one transcript per gene.\n",
    "  write.table(genes, file=filename, sep=\"\\t\", quote = FALSE, row.names = FALSE, col.names=FALSE)\n",
    "}\n"
   ]
  },
  {
   "cell_type": "code",
   "execution_count": null,
   "metadata": {},
   "outputs": [],
   "source": [
    "%%bash -s \"$DIR\"\n",
    "## Total transcriptome + Presumably annotated + Presumably novel\n",
    "OUT=$1/results/transcriptome_genes.txt\n",
    "if [ -f \"$OUT\" ] ; then\n",
    "    rm \"$OUT\"\n",
    "fi\n",
    "echo -e \"Sample\\tTotal_genes\\tAnnotated_genes\\tNovel_genes\" >> $OUT\n",
    "\n",
    "for file in $1/analysis/06_stringtie/*_genes.gtf; do\n",
    "    if [[ ${file} != *\"cov\"* ]]; then \n",
    "        name=\"${file%%.*}\"\n",
    "        name=\"${name##*/}\"\n",
    "        echo -e $name\"\\t\"$(wc -l < $file)\"\\t\"$(awk '($2 != \"NA\") {print}' $file | wc -l)\"\\t\"$(awk '($2 == \"NA\") {print}' $file | wc -l) >> $OUT\n",
    "    fi\n",
    "done\n"
   ]
  },
  {
   "cell_type": "markdown",
   "metadata": {},
   "source": [
    "From here, I **need** to know if what is considered as novel is really novel. Intersect with annotated genes. Those that do not overlap at all, are novels for sure: maintain.\n",
    "\n",
    "`$GENOMEDIR/Annot_files_GTF/gencode.v38.primary_assembly.annotation.gtf`"
   ]
  },
  {
   "cell_type": "code",
   "execution_count": null,
   "metadata": {},
   "outputs": [],
   "source": [
    "%%bash -s \"$DIR\"\n",
    "\n",
    "mkdir $1/analysis/06_stringtie/NOoriented\n",
    "mkdir $1/analysis/06_stringtie/oriented\n",
    "\n",
    "for file in $1/analysis/06_stringtie/*.gtf; do \n",
    "    if [[ ${file} != *\"cov\"* ]]; then \n",
    "    if [[ ${file} != *\"gene\"* ]]; then \n",
    "    name=${file##*/}\n",
    "    name=${name%%.*}\n",
    "    #separation of novel transcripts oriented not oriented\n",
    "    awk '($7 == \".\") {print}' $file > $1/analysis/06_stringtie/NOoriented/${name}_NOoriented.gtf\n",
    "    awk '($7 != \".\") {print}' $file > $1/analysis/06_stringtie/oriented/${name}_oriented.gtf\n",
    "    fi\n",
    "    fi\n",
    "done"
   ]
  },
  {
   "cell_type": "markdown",
   "metadata": {},
   "source": [
    "**FORCING STRANDNESS**\n",
    "\n",
    "For the novel transcripts oriented, we force orientation when checking the overlapping with the reference."
   ]
  },
  {
   "cell_type": "code",
   "execution_count": null,
   "metadata": {},
   "outputs": [],
   "source": [
    "%%bash -s \"$DIR\" \"$GENOMEDIR\"\n",
    "\n",
    "module load BEDTools/2.2.1\n",
    "\n",
    "for file in $1/analysis/06_stringtie/oriented/*.gtf; do \n",
    "name=${file##*/}\n",
    "name=${name%%.*}\n",
    "#select novel transcripts that do not overlap at all with the gencode annotation (-v)\n",
    "bedtools intersect -v -s -a $file -b $2/Annot_files_GTF/gencode.v38.primary_assembly.annotation.gtf > $1/analysis/06_stringtie/oriented/${name}_novel.gtf\n",
    "done"
   ]
  },
  {
   "cell_type": "markdown",
   "metadata": {},
   "source": [
    "I want to see if there are \"alone exons\", I don't want them, only full transcripts. Check transcript line, store geneid (STRG.XX), see if later exons contain the same. If so, store in new file, if not, skip."
   ]
  },
  {
   "cell_type": "code",
   "execution_count": null,
   "metadata": {},
   "outputs": [],
   "source": [
    "for file in os.listdir(os.path.join(DIR,\"analysis/06_stringtie/oriented\")):\n",
    "    if file.endswith(\"novel.gtf\"):\n",
    "        outname=file[:-4]+\"_complete.gtf\"\n",
    "        with open(os.path.join(os.path.join(DIR,\"analysis/06_stringtie/oriented\"),file)) as inp:\n",
    "            with open(os.path.join(os.path.join(DIR,\"analysis/06_stringtie/oriented\"),outname), 'w') as out:\n",
    "                lines = inp.readlines()\n",
    "                t_gene_id = \"\"\n",
    "                for line in lines:\n",
    "                    tab_split_line=line.split(\"\\t\")\n",
    "                    coma_split_line=line.split(\";\")\n",
    "                    gene_id=re.findall(r'\"([^\"]*)\"',coma_split_line[0])\n",
    "                    if tab_split_line[2] == \"transcript\":\n",
    "                        t_gene_id = gene_id[0]\n",
    "                        out.write(line)\n",
    "                    if tab_split_line[2] == \"exon\":\n",
    "                        if gene_id[0] == t_gene_id:\n",
    "                            out.write(line)\n",
    "                        else:\n",
    "                            continue\n"
   ]
  },
  {
   "cell_type": "markdown",
   "metadata": {},
   "source": [
    "**WITHOUT FORCING STRANDNESS**\n",
    "\n",
    "For the novel transcripts NOT oriented, we do not force orientation when checking the overlapping with the reference."
   ]
  },
  {
   "cell_type": "code",
   "execution_count": null,
   "metadata": {},
   "outputs": [],
   "source": [
    "%%bash -s \"$DIR\" \"$GENOMEDIR\"\n",
    "\n",
    "module load BEDTools/2.27.1\n",
    "\n",
    "for file in $1/analysis/06_stringtie/NOoriented/*.gtf; do \n",
    "name=${file##*/}\n",
    "name=${name%%.*}\n",
    "#select novel transcripts that do not overlap at all with the gencode annotation (-v)\n",
    "bedtools intersect -v -a $file -b $2/Annot_files_GTF/gencode.v38.primary_assembly.annotation.gtf > $1/analysis/06_stringtie/NOoriented/${name}_novel.gtf\n",
    "done"
   ]
  },
  {
   "cell_type": "markdown",
   "metadata": {},
   "source": [
    "I want to see if there are \"alone exons\", I don't want them, only full transcripts. Check transcript line, store geneid (STRG.XX), see if later exons contain the same. If so, store in new file, if not, skip."
   ]
  },
  {
   "cell_type": "code",
   "execution_count": null,
   "metadata": {},
   "outputs": [],
   "source": [
    "for file in os.listdir(os.path.join(DIR,\"analysis/06_stringtie/NOoriented\")):\n",
    "    if file.endswith(\"novel.gtf\"):\n",
    "        outname=file[:-4]+\"_complete.gtf\"\n",
    "        with open(os.path.join(os.path.join(DIR,\"analysis/06_stringtie/NOoriented\"),file)) as inp:\n",
    "            with open(os.path.join(os.path.join(DIR,\"analysis/06_stringtie/NOoriented\"),outname), 'w') as out:\n",
    "                lines = inp.readlines()\n",
    "                t_gene_id = \"\"\n",
    "                for line in lines:\n",
    "                    tab_split_line=line.split(\"\\t\")\n",
    "                    coma_split_line=line.split(\";\")\n",
    "                    gene_id=re.findall(r'\"([^\"]*)\"',coma_split_line[0])\n",
    "                    if tab_split_line[2] == \"transcript\":\n",
    "                        t_gene_id = gene_id[0]\n",
    "                        out.write(line)\n",
    "                    if tab_split_line[2] == \"exon\":\n",
    "                        if gene_id[0] == t_gene_id:\n",
    "                            out.write(line)\n",
    "                        else:\n",
    "                            continue\n"
   ]
  },
  {
   "cell_type": "markdown",
   "metadata": {},
   "source": [
    "Concate both results"
   ]
  },
  {
   "cell_type": "code",
   "execution_count": null,
   "metadata": {},
   "outputs": [],
   "source": [
    "%%bash -s \"$DIR\" \"$patients_summary\"\n",
    "\n",
    "mkdir $1/analysis/06_stringtie/intersect_novel\n",
    "\n",
    "while IFS=, read patient normal tumor; do\n",
    "    #concatenate both results in order to obtain a gtf file with all novel transcripts considered\n",
    "    cat $1/analysis/06_stringtie/oriented/${normal}_oriented_novel_complete.gtf $1/analysis/06_stringtie/NOoriented/${normal}_NOoriented_novel_complete.gtf > $1/analysis/06_stringtie/intersect_novel/${normal}_novel.gtf\n",
    "    cat $1/analysis/06_stringtie/oriented/${tumor}_oriented_novel_complete.gtf $1/analysis/06_stringtie/NOoriented/${tumor}_NOoriented_novel_complete.gtf > $1/analysis/06_stringtie/intersect_novel/${tumor}_novel.gtf\n",
    "done < $2\n"
   ]
  },
  {
   "cell_type": "markdown",
   "metadata": {},
   "source": [
    "Make summary file with novel genes per sample"
   ]
  },
  {
   "cell_type": "code",
   "execution_count": null,
   "metadata": {},
   "outputs": [],
   "source": [
    "%%bash -s \"$DIR\"\n",
    "\n",
    "OUT=$1/results/real_novel_genes.txt\n",
    "if [ -f \"$OUT\" ] ; then\n",
    "    rm \"$OUT\"\n",
    "fi\n",
    "echo -e \"sample\\tnovel_genes\" >> $OUT \n",
    "\n",
    "for file in $1/analysis/06_stringtie/intersect_novel/*_novel.gtf; do\n",
    "name=${file##*/}\n",
    "echo -e ${name%%_*}\"\\t\"$(awk '($3 == \"transcript\") {print}' $file | wc -l) >> $OUT\n",
    "done"
   ]
  },
  {
   "cell_type": "markdown",
   "metadata": {},
   "source": [
    "Create reference transcriptome file per sample.\n",
    "For the annotated features, we consider those from gencode, stringtie information is only used for the novel transcriptome assembly"
   ]
  },
  {
   "cell_type": "code",
   "execution_count": null,
   "metadata": {},
   "outputs": [],
   "source": [
    "%%bash -s \"$DIR\" \"$GENOMEDIR\"\n",
    "\n",
    "export PATH=/genomics/users/marta/tools/gff3sort-master:$PATH\n",
    "\n",
    "REF=$2/Annot_files_GTF/gencode.v38.primary_assembly.annotation.gtf \n",
    "OUTDIR=$1/analysis/06_stringtie/stringtie_reference_annotations\n",
    "mkdir $OUTDIR\n",
    "\n",
    "for file in $1/analysis/06_stringtie/intersect_novel/*novel.gtf; do\n",
    "name=${file##*/}\n",
    "name=${name%%_*}\n",
    "cat $file $REF > ${OUTDIR}/${name}_reference_annotation.gtf\n",
    "#sort the newly assembled transcriptome\n",
    "gff3sort.pl --precise --chr_order natural ${OUTDIR}/${name}_reference_annotation.gtf > ${OUTDIR}/${name}_reference_annotation_sorted.gtf\n",
    "rm ${OUTDIR}/${name}_reference_annotation.gtf\n",
    "done"
   ]
  }
 ],
 "metadata": {
  "kernelspec": {
   "display_name": "Python 3 (ipykernel)",
   "language": "python",
   "name": "python3"
  },
  "language_info": {
   "codemirror_mode": {
    "name": "ipython",
    "version": 3
   },
   "file_extension": ".py",
   "mimetype": "text/x-python",
   "name": "python",
   "nbconvert_exporter": "python",
   "pygments_lexer": "ipython3",
   "version": "3.9.7"
  }
 },
 "nbformat": 4,
 "nbformat_minor": 4
}
