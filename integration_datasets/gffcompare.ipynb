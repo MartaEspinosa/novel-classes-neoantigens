{
 "cells": [
  {
   "cell_type": "markdown",
   "metadata": {},
   "source": [
    "# Gffcompare common\n",
    "\n",
    "Generate one transcriptome with newly assembled tumor-specific transcriptomes, merging all datasets. `gff.combined.loci` will allow us to know those that are shared between patients as well as it's old and new identifiers.\n"
   ]
  },
  {
   "cell_type": "code",
   "execution_count": null,
   "metadata": {},
   "outputs": [],
   "source": [
    "import os\n",
    "import pandas as pd\n",
    "import glob\n",
    "import numpy as np\n",
    "\n",
    "GENERAL = \"data\"\n",
    "\n",
    "projects = [f.name for f in os.scandir(\"data\") if f.is_dir()]\n",
    "bash_projects = \" \".join(projects)\n",
    "\n",
    "###if projects names are not the GEO ids, we suggest to change them. Keys correspond to project names as they are in the folder and values the GEO id\n",
    "#dict_projects = {'liver_adjacent_totalRNA':'GSE101432', 'hcc_normal_totalRNA':'GSE77314','zou_hcc_RP_totalRNA':'GSE112705', 'GSE193567':'GSE193567'}\n",
    "#GEO = dict_projects.values()\n",
    "#GEO_list = list(GEO)"
   ]
  },
  {
   "cell_type": "code",
   "execution_count": 18,
   "metadata": {},
   "outputs": [
    {
     "name": "stderr",
     "output_type": "stream",
     "text": [
      "mkdir: cannot create directory ‘/projects_eg/projects/marta/gffcompare_novel_tumor_sp_3’: File exists\n"
     ]
    }
   ],
   "source": [
    "%%bash -s \"$bash_projects\"\n",
    "\n",
    "mkdir data/gffcompare_novel_tumor_sp_common\n",
    "cd data/gffcompare_novel_tumor_sp_common\n",
    "\n",
    "OUT=list_novel_tumorsp_files_MODIFids_common.txt\n",
    "if [ -f \"$OUT\" ] ; then\n",
    "    rm \"$OUT\"\n",
    "fi\n",
    "\n",
    "for proj in $1; do\n",
    "    cat data/$proj/analysis/gffcompare/list_novel_tumorsp_files_MODIFids.txt >> $OUT\n",
    "done\n",
    "\n",
    "module load gffcompare/20190227\n",
    "\n",
    "gffcompare -i $OUT -o gffcmp.MODIFids\n"
   ]
  }
 ],
 "metadata": {
  "kernelspec": {
   "display_name": "Python 3 (ipykernel)",
   "language": "python",
   "name": "python3"
  },
  "language_info": {
   "codemirror_mode": {
    "name": "ipython",
    "version": 3
   },
   "file_extension": ".py",
   "mimetype": "text/x-python",
   "name": "python",
   "nbconvert_exporter": "python",
   "pygments_lexer": "ipython3",
   "version": "3.9.7"
  }
 },
 "nbformat": 4,
 "nbformat_minor": 4
}
