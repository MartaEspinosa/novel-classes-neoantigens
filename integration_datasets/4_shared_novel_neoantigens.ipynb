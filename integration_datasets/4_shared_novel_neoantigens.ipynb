{
 "cells": [
  {
   "cell_type": "markdown",
   "id": "99f7f482",
   "metadata": {},
   "source": [
    "# Shared novel neoantigens\n",
    "\n",
    "This script may need to be adapted, since it is done considering only 3 datasets"
   ]
  },
  {
   "cell_type": "code",
   "execution_count": null,
   "id": "95ad2ba9",
   "metadata": {},
   "outputs": [],
   "source": [
    "import os\n",
    "import pandas as pd\n",
    "import glob\n",
    "import numpy as np\n",
    "from Bio import SeqIO\n",
    "\n",
    "DATADIR=\"data\"\n",
    "GENERAL = DATADIR\n",
    "\n",
    "projects = [f.name for f in os.scandir(DATADIR) if f.is_dir()]\n",
    "sep_projects = \"_\".join(projects)\n",
    "\n",
    "###if projects names are not the GEO ids, we suggest to change them. Keys correspond to project names as they are in the folder and values the GEO id\n",
    "#dict_projects = {'liver_adjacent_totalRNA':'GSE101432', 'hcc_normal_totalRNA':'GSE77314','zou_hcc_RP_totalRNA':'GSE112705', 'GSE193567':'GSE193567'}\n",
    "#GEO = dict_projects.values()\n",
    "#GEO_list = list(GEO)"
   ]
  },
  {
   "cell_type": "code",
   "execution_count": null,
   "id": "9bd0aade",
   "metadata": {},
   "outputs": [],
   "source": [
    "A_neoantigens = pd.read_csv(os.path.join(DATADIR,projects[0],\"/analysis/novel_neoantigens.csv\"),header=0)\n",
    "B_neoantigens = pd.read_csv(os.path.join(DATADIR,projects[1],\"/analysis/novel_neoantigens.csv\"),header=0)\n",
    "C_neoantigens = pd.read_csv(os.path.join(DATADIR,projects[2],\"/analysis/novel_neoantigens.csv\"),header=0)"
   ]
  },
  {
   "cell_type": "code",
   "execution_count": null,
   "id": "18a9e6f3",
   "metadata": {},
   "outputs": [],
   "source": [
    "listA = A_neoantigens.peptide.values.tolist()\n",
    "shared_in_B = B_neoantigens[B_neoantigens['peptide'].isin(listA)]\n",
    "shared_in_B\n",
    "total_shared = shared_in_B.merge(A_neoantigens, on='peptide')\n",
    "listC = C_neoantigens.peptide.values.tolist()\n",
    "shared_in_3 = total_shared[total_shared['peptide'].isin(listC)]\n",
    "total_shared_3 = total_shared.merge(C_neoantigens, on='peptide')\n",
    "total_shared_3.rename(columns = {'counts_x':'counts_B', 'counts_y':'counts_A', 'counts':'counts_C'}, inplace = True)\n",
    "total_shared_3.to_csv(DATADIR+\"/\"+sep_projects+\"_novel_neoantigens.csv\", index=False)\n",
    "total_shared_3.head(5)"
   ]
  },
  {
   "cell_type": "markdown",
   "id": "165f14ce",
   "metadata": {},
   "source": [
    "Add indentifiers"
   ]
  },
  {
   "cell_type": "code",
   "execution_count": null,
   "id": "6d209239",
   "metadata": {},
   "outputs": [],
   "source": [
    "INDIR=os.path.join(DATADIR,projects[0],\"analysis/11_PeptideBindingMHC/noncanonical_CIPHER\")\n",
    "novel_neoantigens = total_shared_3.peptide.values.tolist()\n",
    "match = list()\n",
    "for neo in novel_neoantigens:\n",
    "    for patient in os.listdir(INDIR):\n",
    "        with open(os.path.join(INDIR,patient)+\"/\"+patient+\"_peptides_GTEx.csv\") as inp:\n",
    "            content=inp.readlines()\n",
    "            for line in content:\n",
    "                count = line.count(neo)\n",
    "                if count > 0:\n",
    "                    match.append(line)"
   ]
  },
  {
   "cell_type": "code",
   "execution_count": null,
   "id": "5a5ff03d",
   "metadata": {},
   "outputs": [],
   "source": [
    "peptides_dict=dict()\n",
    "for line in match:\n",
    "    peptide=line.split(',')[0]\n",
    "    ENST=line.split(',')[1]\n",
    "\n",
    "    peptides_dict[peptide] = ENST\n",
    "    \n",
    "peptides_df = pd.DataFrame(peptides_dict.items(), columns=['peptide', 'transcript_id'])\n",
    "total_shared_3=peptides_df.merge(total_shared_3, on='peptide')\n",
    "total_shared_3.to_csv(DATADIR+\"/\"+sep_projects+\"_novel_neoantigens_ID.csv\", index=False)\n",
    "total_shared_3.head(10)"
   ]
  },
  {
   "cell_type": "markdown",
   "id": "912f2e16",
   "metadata": {},
   "source": [
    "Immunoevidence for shared neoantigens"
   ]
  },
  {
   "cell_type": "code",
   "execution_count": null,
   "id": "2d685f55",
   "metadata": {},
   "outputs": [],
   "source": [
    "chong = pd.read_excel(\"immunopeptidomes_evidences/Chong_etal_2020_SupData3_41467_2020_14968_MOESM5_ESM.xlsx\", skiprows=1)\n",
    "chong['Transcript_ID'] = chong['Transcript_ID'].str[:-2]\n",
    "to_compare_chong = chong.Sequence.values.tolist()\n",
    "\n",
    "spencer = pd.read_csv(\"immunopeptidomes_evidences/SPENCER_Immunogenic_peptide_info.txt\", sep=\"\\t\")\n",
    "spencer_to_compare = spencer.sequence.values.tolist()\n",
    "\n",
    "lncpep = pd.read_csv(\"immunopeptidomes_evidences/pep.info.human.txt\", sep=\"\\t\")\n",
    "lncpep_to_compare = lncpep.orf_sequence.values.tolist()\n"
   ]
  },
  {
   "cell_type": "code",
   "execution_count": null,
   "id": "b52a5be5",
   "metadata": {},
   "outputs": [],
   "source": [
    "whole_evidences = dict()\n",
    "for neo in novel_neoantigens:\n",
    "    evidences = list()\n",
    "    for i in to_compare_chong:\n",
    "        if neo in i and \"Chong\" not in evidences:\n",
    "            evidences.append(\"chong\")\n",
    "    for e in spencer_to_compare:\n",
    "         if neo in e and \"SPENCER\" not in evidences:\n",
    "            evidences.append(\"SPENCER\")\n",
    "    for l in lncpep_to_compare:\n",
    "        if neo in l and \"LncPep\" not in evidences:\n",
    "            evidences.append(\"LncPep\")\n",
    "            \n",
    "\n",
    "    whole_evidences[neo] = evidences"
   ]
  },
  {
   "cell_type": "code",
   "execution_count": null,
   "id": "e6c80c38",
   "metadata": {},
   "outputs": [],
   "source": [
    "new_dict=dict()\n",
    "for key, value in whole_evidences.items():\n",
    "    if len(value) > 1:\n",
    "        listToStr = ','.join(map(str, value))\n",
    "        new_dict[key] = listToStr\n",
    "    elif len(value) == 1:\n",
    "        listToStr = ''.join(map(str, value))\n",
    "        new_dict[key] = listToStr\n",
    "    else:\n",
    "        new_dict[key] = \"None\"\n",
    "novel_immuno_df = pd.DataFrame(new_dict.items(), columns=['peptide', 'source_evidence'])\n"
   ]
  },
  {
   "cell_type": "code",
   "execution_count": null,
   "id": "6b9d285e",
   "metadata": {},
   "outputs": [],
   "source": [
    "whole_df = total_shared_3.merge(novel_immuno_df, on=\"peptide\")\n",
    "whole_df.to_csv(DATADIR+\"/\"+sep_projects+\"_novel_neoantigens_immunoevidence.csv\", index=None)\n",
    "whole_df_not_none = whole_df[whole_df['source_evidence'] != \"None\"]\n",
    "whole_df_not_none"
   ]
  },
  {
   "cell_type": "markdown",
   "id": "c72cae2a",
   "metadata": {},
   "source": [
    "VennDiagram"
   ]
  },
  {
   "cell_type": "code",
   "execution_count": null,
   "id": "55788a50",
   "metadata": {},
   "outputs": [],
   "source": [
    "from matplotlib_venn import venn3, venn3_circles, venn3_unweighted\n",
    "import matplotlib\n",
    "from matplotlib import pyplot as plt\n",
    "import pandas as pd\n",
    "%matplotlib inline\n",
    "\n",
    "set1 = set(A_neoantigens['peptide'])\n",
    "set2 = set(B_neoantigens['peptide'])\n",
    "set3 = set(C_neoantigens['peptide'])\n",
    "venn3([set1,set2,set3], (projects[0],projects[1],projects[2]), set_colors=('purple', 'skyblue','yellow'), alpha = 0.7)\n"
   ]
  },
  {
   "cell_type": "markdown",
   "id": "5ba44933",
   "metadata": {},
   "source": [
    "Check to proteome"
   ]
  },
  {
   "cell_type": "code",
   "execution_count": null,
   "id": "5aaf68bf",
   "metadata": {},
   "outputs": [],
   "source": [
    "proteome=\"genomes/GRCh38/Homo_sapiens.GRCh38.pep.all.noversion.fa\"\n",
    "sequences = list()\n",
    "for seq_record in SeqIO.parse(proteome, 'fasta'):  # (generator)   \n",
    "    seq=str(seq_record.seq).replace(\"*\", \"|\")\n",
    "    sequences.append(seq)\n",
    "  "
   ]
  },
  {
   "cell_type": "code",
   "execution_count": null,
   "id": "788b2bd7",
   "metadata": {},
   "outputs": [],
   "source": [
    "Aout = \"data\"+projects[0]+\"/analysis/novel_neoantigens_notin_proteome.csv\"\n",
    "A_neoantigens_proteome=A_neoantigens[A_neoantigens['peptide'].apply(lambda x: any([x for k in sequences if x in k]))]\n",
    "A_neoantigens_NOT_proteome=A_neoantigens[~A_neoantigens['peptide'].apply(lambda x: any([x for k in sequences if x in k]))]\n",
    "A_neoantigens_NOT_proteome.to_csv(A_neoantigens_out, index=False)\n",
    "print(\"%s\\nFrom %i novel neoantigens, %i are already found in the human proteome and %i are completely new\\n\" %(projects[0],len(A_neoantigens), len(A_neoantigens_proteome), len(A_neoantigens_NOT_proteome)))\n"
   ]
  },
  {
   "cell_type": "code",
   "execution_count": null,
   "id": "9504b949",
   "metadata": {},
   "outputs": [],
   "source": [
    "Bout = \"data\"+projects[1]+\"/analysis/novel_neoantigens_notin_proteome.csv\"\n",
    "B_neoantigens_proteome=B_neoantigens[B_neoantigens['peptide'].apply(lambda x: any([x for k in sequences if x in k]))]\n",
    "B_neoantigens_NOT_proteome=B_neoantigens[~B_neoantigens['peptide'].apply(lambda x: any([x for k in sequences if x in k]))]\n",
    "B_neoantigens_NOT_proteome.to_csv(B_neoantigens_out, index=False)\n",
    "print(\"%s\\nFrom %i novel neoantigens, %i are already found in the human proteome and %i are completely new\\n\" %(projects[1],len(B_neoantigens), len(B_neoantigens_proteome), len(B_neoantigens_NOT_proteome)))\n"
   ]
  },
  {
   "cell_type": "code",
   "execution_count": null,
   "id": "3194ac2f",
   "metadata": {},
   "outputs": [],
   "source": [
    "Cout = \"data\"+projects[2]+\"/analysis/novel_neoantigens_notin_proteome.csv\"\n",
    "C_neoantigens_proteome=C_neoantigens[C_neoantigens['peptide'].apply(lambda x: any([x for k in sequences if x in k]))]\n",
    "C_neoantigens_NOT_proteome=C_neoantigens[~C_neoantigens['peptide'].apply(lambda x: any([x for k in sequences if x in k]))]\n",
    "C_neoantigens_NOT_proteome.to_csv(C_neoantigens_out, index=False)\n",
    "print(\"%s\\nFrom %i novel neoantigens, %i are already found in the human proteome and %i are completely new\\n\" %(projects[2],len(C_neoantigens), len(C_neoantigens_proteome), len(C_neoantigens_NOT_proteome)))\n"
   ]
  }
 ],
 "metadata": {
  "kernelspec": {
   "display_name": "Python 3 (ipykernel)",
   "language": "python",
   "name": "python3"
  },
  "language_info": {
   "codemirror_mode": {
    "name": "ipython",
    "version": 3
   },
   "file_extension": ".py",
   "mimetype": "text/x-python",
   "name": "python",
   "nbconvert_exporter": "python",
   "pygments_lexer": "ipython3",
   "version": "3.9.12"
  }
 },
 "nbformat": 4,
 "nbformat_minor": 5
}
