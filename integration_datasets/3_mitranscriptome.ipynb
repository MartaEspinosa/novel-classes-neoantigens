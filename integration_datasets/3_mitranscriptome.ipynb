{
 "cells": [
  {
   "cell_type": "markdown",
   "metadata": {},
   "source": [
    "# miTranscriptome evidence\n",
    "\n",
    "https://www.ncbi.nlm.nih.gov/pmc/articles/PMC4417758/\n"
   ]
  },
  {
   "cell_type": "code",
   "execution_count": null,
   "metadata": {},
   "outputs": [],
   "source": [
    "import os\n",
    "import pandas as pd\n",
    "import glob\n",
    "import numpy as np\n",
    "\n",
    "GENERAL = \"data\"\n",
    "\n",
    "projects = [f.name for f in os.scandir(\"data\") if f.is_dir()]\n",
    "bash_projects = \" \".join(projects)\n",
    "\n",
    "for proj in projects:\n",
    "    try:\n",
    "        os.makedirs(os.path.join(\"data\",proj,\"analysis/miTranscriptome\"))\n",
    "    else:\n",
    "        print(\"%s already contains a miTranscriptome directory\" %(proj))\n",
    "###if projects names are not the GEO ids, we suggest to change them. Keys correspond to project names as they are in the folder and values the GEO id\n",
    "#dict_projects = {'liver_adjacent_totalRNA':'GSE101432', 'hcc_normal_totalRNA':'GSE77314','zou_hcc_RP_totalRNA':'GSE112705', 'GSE193567':'GSE193567'}\n",
    "#GEO = dict_projects.values()\n",
    "#GEO_list = list(GEO)"
   ]
  },
  {
   "cell_type": "code",
   "execution_count": null,
   "metadata": {},
   "outputs": [],
   "source": [
    "%%bash -s \"$bash_projects\"\n",
    "mitranscriptome=miTranscriptome/mitranscriptome.v2.gtf\n",
    "\n",
    "module load BEDTools\n",
    "\n",
    "for proj in $1; do\n",
    "    gffcompare=data/$proj/analysis/gffcompare/gffcmp.MODIFids.combined.gtf\n",
    "    \n",
    "    bedtools intersect -v -a $gffcompare -b $mitranscriptome > data/$proj/analysis/mitranscriptome/nooverlap_mitranscriptome.gtf\n",
    "    bedtools intersect -wa -wb -a $gffcompare -b $mitranscriptome > data/$proj/analysis/mitranscriptome/overlap_mitranscriptome.gtf\n",
    "done"
   ]
  },
  {
   "cell_type": "code",
   "execution_count": null,
   "metadata": {},
   "outputs": [],
   "source": [
    "%%bash -s \"$bash_projects\"\n",
    "\n",
    "for proj in $1; do\n",
    "    echo \"for project \"$proj\":\"\n",
    "    \n",
    "    echo \"novel tumor-specific transcripts\"\n",
    "    cat data/$proj/analysis/gffcompare/gffcmp.MODIFids.combined.gtf | cut -d\";\" -f2 | sort | uniq | wc -l\n",
    "\n",
    "    echo \"novel tumor-specific transcripts evidenced in miTranscriptome\"\n",
    "    cat data/$proj/analysis/mitranscriptome/overlap_mitranscriptome.gtf | cut -d\";\" -f2 | sort | uniq | wc -l\n",
    "\n",
    "    echo \"novel tumor-specific transcripts NOT evidenced in miTranscriptome\"\n",
    "    cat data/$proj/analysis/mitranscriptome/nooverlap_mitranscriptome.gtf | cut -d\";\" -f2 | sort | uniq | wc -l\n",
    "done"
   ]
  }
 ],
 "metadata": {
  "kernelspec": {
   "display_name": "Python 3 (ipykernel)",
   "language": "python",
   "name": "python3"
  },
  "language_info": {
   "codemirror_mode": {
    "name": "ipython",
    "version": 3
   },
   "file_extension": ".py",
   "mimetype": "text/x-python",
   "name": "python",
   "nbconvert_exporter": "python",
   "pygments_lexer": "ipython3",
   "version": "3.9.12"
  }
 },
 "nbformat": 4,
 "nbformat_minor": 4
}
