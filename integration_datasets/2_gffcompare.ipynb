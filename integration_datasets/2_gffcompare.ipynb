{
 "cells": [
  {
   "cell_type": "markdown",
   "metadata": {},
   "source": [
    "# Gffcompare common\n",
    "\n",
    "Generate one transcriptome with newly assembled tumor-specific transcriptomes, merging all datasets. `gff.combined.loci` will allow us to know those that are shared between patients as well as it's old and new identifiers.\n"
   ]
  },
  {
   "cell_type": "code",
   "execution_count": null,
   "metadata": {},
   "outputs": [],
   "source": [
    "import os\n",
    "import pandas as pd\n",
    "import glob\n",
    "import numpy as np\n",
    "\n",
    "GENERAL = \"data\"\n",
    "\n",
    "projects = [f.name for f in os.scandir(\"data\") if f.is_dir()]\n",
    "bash_projects = \" \".join(projects)\n",
    "\n",
    "for proj in projects:\n",
    "    try:\n",
    "        os.makedirs(os.path.join(\"data\",proj,\"analysis/gffcompare\"))\n",
    "    else:\n",
    "        print(\"%s already contains a gffcompare directory\" %(proj))\n",
    "###if projects names are not the GEO ids, we suggest to change them. Keys correspond to project names as they are in the folder and values the GEO id\n",
    "#dict_projects = {'liver_adjacent_totalRNA':'GSE101432', 'hcc_normal_totalRNA':'GSE77314','zou_hcc_RP_totalRNA':'GSE112705', 'GSE193567':'GSE193567'}\n",
    "#GEO = dict_projects.values()\n",
    "#GEO_list = list(GEO)"
   ]
  },
  {
   "cell_type": "markdown",
   "metadata": {},
   "source": [
    "**TUMOR-SPECIFIC**"
   ]
  },
  {
   "cell_type": "markdown",
   "metadata": {},
   "source": [
    "Modify identifiers of novel genes adding the patient id"
   ]
  },
  {
   "cell_type": "code",
   "execution_count": null,
   "metadata": {},
   "outputs": [],
   "source": [
    "for proj in project:\n",
    "    patients=pd.read_csv(os.path.join(\"data\",proj,\"results/patients.csv\", header=None)\n",
    "\n",
    "    for p in patients.iloc[:,0]:\n",
    "        file=\"data\"+proj+\"analysis/08_tumor_specific/\"+p+\"/\"+p+\"_novel_tumor_specific_genes_1FPKM_300kb.gtf\"\n",
    "        with open (file) as inp:\n",
    "            outfile=\"data\"+proj+\"analysis/gffcompare/\"+p+\"_novel_tumor_specific_genes_1FPKM_300kb_MODIF.gtf\"\n",
    "            with open(outfile, 'w') as out:\n",
    "                lines=inp.readlines()\n",
    "                for line in lines:\n",
    "                    final_line = line.replace('STRG', 'STRG.'+p)\n",
    "                    out.write(final_line)\n"
   ]
  },
  {
   "cell_type": "code",
   "execution_count": null,
   "metadata": {},
   "outputs": [],
   "source": [
    "%%bash -s \"$bash_projects\"\n",
    "\n",
    "module load gffcompare/20190227\n",
    "\n",
    "for proj in $1; do\n",
    "    declare -a listfiles\n",
    "\n",
    "    while IFS=, read patient normal tumor; do\n",
    "        listfiles=(${listfiles[@]} data/$proj/analysis/gffcompare/${patient}_novel_tumor_specific_genes_1FPKM_300kb_MODIF.gtf) # Add new element at the end of the array\n",
    "    done < data/$proj/results/patients.csv\n",
    "\n",
    "    cd data/$proj/analysis/gffcompare\n",
    "\n",
    "    printf \"%s\\n\" \"${listfiles[@]}\" > list_novel_tumorsp_files_MODIFids.txt\n",
    "\n",
    "    gffcompare -i list_novel_tumorsp_files_MODIFids.txt -o gffcmp.MODIFids\n",
    "done"
   ]
  },
  {
   "cell_type": "markdown",
   "metadata": {},
   "source": [
    "**TOTAL ASSEMBLED NOVEL TRANSCRIPTS**"
   ]
  },
  {
   "cell_type": "code",
   "execution_count": null,
   "metadata": {},
   "outputs": [],
   "source": [
    "%%bash -s \"$bash_projects\"\n",
    "\n",
    "module load gffcompare/20190227\n",
    "\n",
    "for proj in $1; do\n",
    "    declare -a listfiles\n",
    "\n",
    "    while IFS=, read patient normal tumor; do\n",
    "        listfiles=(${listfiles[@]} data/$proj/analysis/06_stringtie/intersect_novel/${normal}_novel.gtf) # Add new element at the end of the array\n",
    "    done < data/$proj/results/patients.csv\n",
    "\n",
    "    cd data/$proj/analysis/gffcompare\n",
    "\n",
    "    printf \"%s\\n\" \"${listfiles[@]}\" > list_novel_assembled_files.txt\n",
    "\n",
    "    gffcompare -i list_novel_assembled_files.txt -o gffcmp.assembled\n",
    "done"
   ]
  }
 ],
 "metadata": {
  "kernelspec": {
   "display_name": "Python 3 (ipykernel)",
   "language": "python",
   "name": "python3"
  },
  "language_info": {
   "codemirror_mode": {
    "name": "ipython",
    "version": 3
   },
   "file_extension": ".py",
   "mimetype": "text/x-python",
   "name": "python",
   "nbconvert_exporter": "python",
   "pygments_lexer": "ipython3",
   "version": "3.9.12"
  }
 },
 "nbformat": 4,
 "nbformat_minor": 4
}
