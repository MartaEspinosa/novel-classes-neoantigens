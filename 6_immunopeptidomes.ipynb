{
 "cells": [
  {
   "cell_type": "markdown",
   "metadata": {},
   "source": [
    "## IDENTIFICATION OF NOVEL CLASSES OF NEOANTIGENS IN CANCER | Data preprocessing"
   ]
  },
  {
   "cell_type": "code",
   "execution_count": 1,
   "metadata": {},
   "outputs": [],
   "source": [
    "%load_ext rpy2.ipython"
   ]
  },
  {
   "cell_type": "markdown",
   "metadata": {},
   "source": [
    "## 0. Data preparation\n",
    "\n",
    "This first cell should be modified according to the data that is going to be used. It is only available for datasets with paired samples per patient: normal and tumor. \n",
    "\n",
    "The **PROJECT** variable should be changed according to the GEO identifier.\n",
    "\n",
    "From the GEO website, the *SRR_Acc_List.txt* and *SraRunTable.txt* files should be manually downloaded and save in a directory. This directory should be specified in **SRR** variable.\n",
    "\n",
    "The pipeline is developed with the intention of running the most computationally expensive programs in a cluster. \n",
    "In this case, a Gluster File System has been used. The code to run on a cluster may need to be adapted."
   ]
  },
  {
   "cell_type": "code",
   "execution_count": null,
   "metadata": {
    "scrolled": true
   },
   "outputs": [],
   "source": [
    "import os,re,shutil,glob,openpyxl\n",
    "import pandas as pd\n",
    "from Bio import SeqIO\n",
    "from gtfparse import read_gtf\n",
    "from matplotlib_venn import venn2, venn2_circles, venn2_unweighted\n",
    "from matplotlib import pyplot as plt\n",
    "from IPython.display import Image\n",
    "\n",
    "PROJECT=\"GSE193567\"\n",
    "\n",
    "DIR=os.path.join(\"data\",PROJECT)\n",
    "\n",
    "try:\n",
    "    os.makedirs(DIR) #path where to store all the itermediate steps and outputs of the pipeline\n",
    "except:\n",
    "    print(\"Directory for %s already exists\" %PROJECT)\n",
    "    \n",
    "CLUSTERDIR=\"/users/genomics/marta\" #path where to run and store things that run in a cluster\n",
    "SRR=\"/projects_eg/datasets/\"+PROJECT # path where SRR_Acc_List.txt and SraRunTable.txt are stored. It should be inside a folder named with GEO accession\n",
    "SRR_ACC=os.path.join(SRR,\"SRR_Acc_List.txt\") \n",
    "SRA=os.path.join(SRR,\"SraRunTable.txt\")\n",
    "\n",
    "FASTQDIR=os.path.join(DIR,\"fastq_files\") #path where to store fastq files\n",
    "try:\n",
    "    os.mkdir(FASTQDIR)\n",
    "except:\n",
    "    print(\"Fastq_files directory exists\")\n",
    "    \n",
    "shutil.copy(SRR_ACC, os.path.join(FASTQDIR,\"SRR_Acc_List.txt\"))\n",
    "shutil.copy(SRA, os.path.join(FASTQDIR,\"SraRunTable.txt\"))\n",
    "\n",
    "GENOMEDIR=\"genomes\"\n",
    "\n",
    "try:\n",
    "    os.makedirs(os.path.join(DIR,\"analysis\"))\n",
    "    os.makedirs(os.path.join(DIR,\"results\"))\n",
    "    #os.makedirs(os.path.join(DIR,\"scripts\"))\n",
    "except:\n",
    "    print(\"Directory exists\")\n",
    "\n"
   ]
  },
  {
   "cell_type": "code",
   "execution_count": null,
   "metadata": {
    "scrolled": true
   },
   "outputs": [],
   "source": [
    "%%R\n",
    "\n",
    "require(tidyr)\n",
    "require(dplyr)\n",
    "require(rtracklayer)\n",
    "#library(purrr)\n",
    "require(ggplot2)\n",
    "require(RColorBrewer)\n",
    "require(devtools)\n",
    "require(stringr)\n",
    "require(edgeR)"
   ]
  },
  {
   "cell_type": "markdown",
   "metadata": {},
   "source": [
    "Get a three column file with patient_id normal_id tumor_id for latter usage "
   ]
  },
  {
   "cell_type": "code",
   "execution_count": 4,
   "metadata": {},
   "outputs": [
    {
     "data": {
      "text/html": [
       "<div>\n",
       "<style scoped>\n",
       "    .dataframe tbody tr th:only-of-type {\n",
       "        vertical-align: middle;\n",
       "    }\n",
       "\n",
       "    .dataframe tbody tr th {\n",
       "        vertical-align: top;\n",
       "    }\n",
       "\n",
       "    .dataframe thead th {\n",
       "        text-align: right;\n",
       "    }\n",
       "</style>\n",
       "<table border=\"1\" class=\"dataframe\">\n",
       "  <thead>\n",
       "    <tr style=\"text-align: right;\">\n",
       "      <th></th>\n",
       "      <th>Individual</th>\n",
       "      <th>Run</th>\n",
       "      <th>Run_t</th>\n",
       "    </tr>\n",
       "  </thead>\n",
       "  <tbody>\n",
       "    <tr>\n",
       "      <th>0</th>\n",
       "      <td>10615</td>\n",
       "      <td>SRR17593537</td>\n",
       "      <td>SRR17593538</td>\n",
       "    </tr>\n",
       "    <tr>\n",
       "      <th>1</th>\n",
       "      <td>10594</td>\n",
       "      <td>SRR17593539</td>\n",
       "      <td>SRR17593540</td>\n",
       "    </tr>\n",
       "    <tr>\n",
       "      <th>2</th>\n",
       "      <td>10584</td>\n",
       "      <td>SRR17593542</td>\n",
       "      <td>SRR17593541</td>\n",
       "    </tr>\n",
       "    <tr>\n",
       "      <th>3</th>\n",
       "      <td>10635</td>\n",
       "      <td>SRR17593543</td>\n",
       "      <td>SRR17593544</td>\n",
       "    </tr>\n",
       "    <tr>\n",
       "      <th>4</th>\n",
       "      <td>10632</td>\n",
       "      <td>SRR17593546</td>\n",
       "      <td>SRR17593545</td>\n",
       "    </tr>\n",
       "    <tr>\n",
       "      <th>5</th>\n",
       "      <td>10628</td>\n",
       "      <td>SRR17593548</td>\n",
       "      <td>SRR17593547</td>\n",
       "    </tr>\n",
       "    <tr>\n",
       "      <th>6</th>\n",
       "      <td>10627</td>\n",
       "      <td>SRR17593550</td>\n",
       "      <td>SRR17593549</td>\n",
       "    </tr>\n",
       "    <tr>\n",
       "      <th>7</th>\n",
       "      <td>10622</td>\n",
       "      <td>SRR17593551</td>\n",
       "      <td>SRR17593552</td>\n",
       "    </tr>\n",
       "    <tr>\n",
       "      <th>8</th>\n",
       "      <td>10619</td>\n",
       "      <td>SRR17593554</td>\n",
       "      <td>SRR17593553</td>\n",
       "    </tr>\n",
       "  </tbody>\n",
       "</table>\n",
       "</div>"
      ],
      "text/plain": [
       "  Individual          Run        Run_t\n",
       "0      10615  SRR17593537  SRR17593538\n",
       "1      10594  SRR17593539  SRR17593540\n",
       "2      10584  SRR17593542  SRR17593541\n",
       "3      10635  SRR17593543  SRR17593544\n",
       "4      10632  SRR17593546  SRR17593545\n",
       "5      10628  SRR17593548  SRR17593547\n",
       "6      10627  SRR17593550  SRR17593549\n",
       "7      10622  SRR17593551  SRR17593552\n",
       "8      10619  SRR17593554  SRR17593553"
      ]
     },
     "execution_count": 4,
     "metadata": {},
     "output_type": "execute_result"
    }
   ],
   "source": [
    "metadata = pd.read_csv(os.path.join(FASTQDIR.split(\"/fastq_files\")[0],\"SraRunTable.txt\"))\n",
    "metadata = metadata[['Run','Individual','tissue']]\n",
    "\n",
    "normal = metadata[metadata['tissue'] == \"non-tumor\"]\n",
    "normal = normal[['Individual','Run']]\n",
    "\n",
    "tumor = metadata[metadata['tissue'] == \"tumor\"]\n",
    "tumor = tumor[['Individual','Run']].rename(columns ={'Run' : 'Run_t'})\n",
    "\n",
    "patients = pd.merge(normal, tumor, on=['Individual'])\n",
    "patients['Individual'] = patients['Individual'].str.split(' ').str[1]\n",
    "patients.to_csv(os.path.join(DIR,\"results/patients.csv\"),index=False, header=False)\n",
    "patients_summary = os.path.join(DIR,\"results/patients.csv\")\n",
    "\n",
    "patients_id=list(patients.iloc[:,0])\n",
    "normal_id=list(patients.iloc[:,1])\n",
    "tumor_id=list(patients.iloc[:,2])\n",
    "\n",
    "patients"
   ]
  },
  {
   "cell_type": "markdown",
   "metadata": {},
   "source": [
    "## 14.Immunopeptidomes\n",
    "\n",
    "To look to immunopeptidomics evidence for our potential neoantigens, we use several sources:\n",
    "\n",
    "\n",
    "**Chong et al. 2020.** Method: NewAnce (combination of MaxQuant and Comet). Samples: melanoma and lung. File: Chong_etal_2020_SupData3.xlsx\n"
   ]
  },
  {
   "cell_type": "code",
   "execution_count": 17,
   "metadata": {},
   "outputs": [],
   "source": [
    "%%bash -s $DIR\n",
    "\n",
    "mkdir $1/analysis/14_immunopeptidomics"
   ]
  },
  {
   "cell_type": "code",
   "execution_count": null,
   "metadata": {
    "scrolled": true
   },
   "outputs": [],
   "source": [
    "chong = pd.read_excel(os.path.join(cwd,\"immunopeptidomes_evidences/Chong_etal_2020_SupData3_41467_2020_14968_MOESM5_ESM.xlsx\"), skiprows=1)\n",
    "chong['Transcript_ID'] = chong['Transcript_ID'].str[:-2]\n",
    "to_compare = chong.Sequence.values.tolist()\n",
    "\n",
    "folders=['noncanonical_CIPHER','canonical_CDS','translation_evidence_NOCDS']\n",
    "\n",
    "for f in folders:\n",
    "    print(f)\n",
    "    for p in patients_id:\n",
    "        merged = pd.DataFrame()\n",
    "        INDIR=DIR+\"/analysis/11_PeptideBindingMHC/\"+f+\"/\"+p\n",
    "        for file in os.listdir(INDIR):\n",
    "            if file.endswith(\".xls\"):\n",
    "                full_file=os.path.join(INDIR,file)\n",
    "                INFILE=pd.read_csv(full_file, skiprows=1, sep=\"\\t\")\n",
    "                shared = INFILE[INFILE['Peptide'].isin(to_compare)] #peptides immunogenic present in the evidence data\n",
    "                if len(shared) > 0:\n",
    "                    print(p,len(shared))\n"
   ]
  },
  {
   "cell_type": "code",
   "execution_count": 24,
   "metadata": {},
   "outputs": [
    {
     "data": {
      "text/html": [
       "<div>\n",
       "<style scoped>\n",
       "    .dataframe tbody tr th:only-of-type {\n",
       "        vertical-align: middle;\n",
       "    }\n",
       "\n",
       "    .dataframe tbody tr th {\n",
       "        vertical-align: top;\n",
       "    }\n",
       "\n",
       "    .dataframe thead th {\n",
       "        text-align: right;\n",
       "    }\n",
       "</style>\n",
       "<table border=\"1\" class=\"dataframe\">\n",
       "  <thead>\n",
       "    <tr style=\"text-align: right;\">\n",
       "      <th></th>\n",
       "      <th>peptide</th>\n",
       "      <th>counts</th>\n",
       "    </tr>\n",
       "  </thead>\n",
       "  <tbody>\n",
       "  </tbody>\n",
       "</table>\n",
       "</div>"
      ],
      "text/plain": [
       "Empty DataFrame\n",
       "Columns: [peptide, counts]\n",
       "Index: []"
      ]
     },
     "execution_count": 24,
     "metadata": {},
     "output_type": "execute_result"
    }
   ],
   "source": [
    "coincidence = total_peptides_counts[total_peptides_counts['peptide'].isin(to_compare)] #how many of the neoantigens from novel genes are already described?\n",
    "coincidence"
   ]
  },
  {
   "cell_type": "markdown",
   "metadata": {},
   "source": [
    "**SPENCER**"
   ]
  },
  {
   "cell_type": "code",
   "execution_count": 25,
   "metadata": {},
   "outputs": [
    {
     "name": "stdout",
     "output_type": "stream",
     "text": [
      "noncanonical_CIPHER\n",
      "10615 9\n",
      "10594 11\n",
      "10584 12\n",
      "10635 8\n",
      "10632 6\n",
      "10628 8\n",
      "10627 9\n",
      "10622 6\n",
      "10619 9\n",
      "canonical_CDS\n",
      "translation_evidence_NOCDS\n",
      "10627 3\n"
     ]
    }
   ],
   "source": [
    "spencer = pd.read_csv(os.path.join(cwd,\"immunopeptidomes_evidences/SPENCER_Immunogenic_peptide_info.txt\"), sep=\"\\t\")\n",
    "spencer_to_compare = spencer.sequence.values.tolist()\n",
    "\n",
    "folders=['noncanonical_CIPHER','canonical_CDS','translation_evidence_NOCDS']\n",
    "\n",
    "for f in folders:\n",
    "    print(f)\n",
    "    for p in patients_id:\n",
    "        merged = pd.DataFrame()\n",
    "        INDIR=DIR+\"/analysis/11_PeptideBindingMHC/\"+f+\"/\"+p\n",
    "\n",
    "        for file in os.listdir(INDIR):\n",
    "            if file.endswith(\".xls\"):\n",
    "                full_file=os.path.join(INDIR,file)\n",
    "                INFILE=pd.read_csv(full_file, skiprows=1, sep=\"\\t\")\n",
    "                to_compare = INFILE.Peptide.values.tolist()\n",
    "\n",
    "                shared = spencer[spencer['sequence'].isin(to_compare)] #peptides immunogenic present in the evidence data\n",
    "                if len(shared) > 0:                    \n",
    "                    print(p,len(shared))\n",
    "\n"
   ]
  },
  {
   "cell_type": "markdown",
   "metadata": {},
   "source": [
    "Check novel peptides coincidence in databases"
   ]
  },
  {
   "cell_type": "code",
   "execution_count": 27,
   "metadata": {},
   "outputs": [
    {
     "data": {
      "text/html": [
       "<div>\n",
       "<style scoped>\n",
       "    .dataframe tbody tr th:only-of-type {\n",
       "        vertical-align: middle;\n",
       "    }\n",
       "\n",
       "    .dataframe tbody tr th {\n",
       "        vertical-align: top;\n",
       "    }\n",
       "\n",
       "    .dataframe thead th {\n",
       "        text-align: right;\n",
       "    }\n",
       "</style>\n",
       "<table border=\"1\" class=\"dataframe\">\n",
       "  <thead>\n",
       "    <tr style=\"text-align: right;\">\n",
       "      <th></th>\n",
       "      <th>peptide</th>\n",
       "      <th>counts</th>\n",
       "    </tr>\n",
       "  </thead>\n",
       "  <tbody>\n",
       "  </tbody>\n",
       "</table>\n",
       "</div>"
      ],
      "text/plain": [
       "Empty DataFrame\n",
       "Columns: [peptide, counts]\n",
       "Index: []"
      ]
     },
     "execution_count": 27,
     "metadata": {},
     "output_type": "execute_result"
    }
   ],
   "source": [
    "coincidence = total_peptides_counts[total_peptides_counts['peptide'].isin(to_compare)] #how many of the neoantigens from novel genes are already described?\n",
    "coincidence"
   ]
  }
 ],
 "metadata": {
  "kernelspec": {
   "display_name": "Python 3 (ipykernel)",
   "language": "python",
   "name": "python3"
  },
  "language_info": {
   "codemirror_mode": {
    "name": "ipython",
    "version": 3
   },
   "file_extension": ".py",
   "mimetype": "text/x-python",
   "name": "python",
   "nbconvert_exporter": "python",
   "pygments_lexer": "ipython3",
   "version": "3.9.7"
  }
 },
 "nbformat": 4,
 "nbformat_minor": 4
}
